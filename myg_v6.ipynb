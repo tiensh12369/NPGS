{
 "cells": [
  {
   "cell_type": "code",
   "execution_count": 1,
   "metadata": {},
   "outputs": [
    {
     "ename": "KeyboardInterrupt",
     "evalue": "",
     "output_type": "error",
     "traceback": [
      "\u001b[1;31m---------------------------------------------------------------------------\u001b[0m",
      "\u001b[1;31mKeyboardInterrupt\u001b[0m                         Traceback (most recent call last)",
      "\u001b[1;32m~\\AppData\\Local\\Temp\\ipykernel_16216\\500416511.py\u001b[0m in \u001b[0;36m<module>\u001b[1;34m\u001b[0m\n\u001b[0;32m     17\u001b[0m \u001b[1;33m\u001b[0m\u001b[0m\n\u001b[0;32m     18\u001b[0m \u001b[0mDataT0\u001b[0m \u001b[1;33m=\u001b[0m \u001b[0mGraphdata\u001b[0m\u001b[1;33m(\u001b[0m\u001b[0mIGPath\u001b[0m\u001b[1;33m,\u001b[0m \u001b[0mlbPath\u001b[0m\u001b[1;33m,\u001b[0m \u001b[0mSeparator\u001b[0m\u001b[1;33m)\u001b[0m\u001b[1;33m\u001b[0m\u001b[1;33m\u001b[0m\u001b[0m\n\u001b[1;32m---> 19\u001b[1;33m \u001b[0mDataP0\u001b[0m \u001b[1;33m=\u001b[0m \u001b[0mPattern\u001b[0m\u001b[1;33m(\u001b[0m\u001b[0mDataT0\u001b[0m\u001b[1;33m.\u001b[0m\u001b[0mOhP\u001b[0m\u001b[1;33m,\u001b[0m \u001b[0mbind\u001b[0m\u001b[1;33m,\u001b[0m \u001b[0mpers\u001b[0m\u001b[1;33m,\u001b[0m \u001b[0mpsize\u001b[0m\u001b[1;33m)\u001b[0m\u001b[1;33m\u001b[0m\u001b[1;33m\u001b[0m\u001b[0m\n\u001b[0m\u001b[0;32m     20\u001b[0m \u001b[1;33m\u001b[0m\u001b[0m\n\u001b[0;32m     21\u001b[0m \u001b[0mFP\u001b[0m \u001b[1;33m=\u001b[0m \u001b[0mDataP0\u001b[0m\u001b[1;33m.\u001b[0m\u001b[0mNhP\u001b[0m\u001b[1;33m\u001b[0m\u001b[1;33m\u001b[0m\u001b[0m\n",
      "\u001b[1;32mc:\\Users\\Hyeuk\\Desktop\\NetDB\\projects\\NPGS\\InitialPattern.py\u001b[0m in \u001b[0;36m__init__\u001b[1;34m(self, OhP, ExceptionList, pers, psize)\u001b[0m\n\u001b[0;32m      6\u001b[0m         \u001b[0mself\u001b[0m\u001b[1;33m.\u001b[0m\u001b[0mExceptionList\u001b[0m \u001b[1;33m=\u001b[0m \u001b[0mExceptionList\u001b[0m\u001b[1;33m\u001b[0m\u001b[1;33m\u001b[0m\u001b[0m\n\u001b[0;32m      7\u001b[0m         \u001b[0mself\u001b[0m\u001b[1;33m.\u001b[0m\u001b[0mThreshold\u001b[0m \u001b[1;33m=\u001b[0m \u001b[0mself\u001b[0m\u001b[1;33m.\u001b[0m\u001b[0mTop_nPercent\u001b[0m\u001b[1;33m(\u001b[0m\u001b[0mOhP\u001b[0m\u001b[1;33m,\u001b[0m \u001b[0mpers\u001b[0m\u001b[1;33m)\u001b[0m\u001b[1;33m\u001b[0m\u001b[1;33m\u001b[0m\u001b[0m\n\u001b[1;32m----> 8\u001b[1;33m         \u001b[0mself\u001b[0m\u001b[1;33m.\u001b[0m\u001b[0mupdatePattern\u001b[0m\u001b[1;33m(\u001b[0m\u001b[0mOhP\u001b[0m\u001b[1;33m,\u001b[0m \u001b[0mself\u001b[0m\u001b[1;33m.\u001b[0m\u001b[0mExceptionList\u001b[0m\u001b[1;33m,\u001b[0m \u001b[0mself\u001b[0m\u001b[1;33m.\u001b[0m\u001b[0mThreshold\u001b[0m\u001b[1;33m)\u001b[0m\u001b[1;33m\u001b[0m\u001b[1;33m\u001b[0m\u001b[0m\n\u001b[0m\u001b[0;32m      9\u001b[0m \u001b[1;33m\u001b[0m\u001b[0m\n\u001b[0;32m     10\u001b[0m     \u001b[1;32mdef\u001b[0m \u001b[0mTop_nPercent\u001b[0m\u001b[1;33m(\u001b[0m\u001b[0mself\u001b[0m\u001b[1;33m,\u001b[0m \u001b[0mdict\u001b[0m\u001b[1;33m,\u001b[0m \u001b[0mn\u001b[0m\u001b[1;33m)\u001b[0m\u001b[1;33m:\u001b[0m\u001b[1;33m\u001b[0m\u001b[1;33m\u001b[0m\u001b[0m\n",
      "\u001b[1;32mc:\\Users\\Hyeuk\\Desktop\\NetDB\\projects\\NPGS\\InitialPattern.py\u001b[0m in \u001b[0;36mupdatePattern\u001b[1;34m(self, updateDict, ExceptionList, Threshold)\u001b[0m\n\u001b[0;32m     79\u001b[0m         \u001b[1;32mif\u001b[0m \u001b[0mlen\u001b[0m\u001b[1;33m(\u001b[0m\u001b[0mupdate_dict\u001b[0m\u001b[1;33m)\u001b[0m \u001b[1;33m!=\u001b[0m \u001b[1;36m0\u001b[0m\u001b[1;33m:\u001b[0m\u001b[1;33m\u001b[0m\u001b[1;33m\u001b[0m\u001b[0m\n\u001b[0;32m     80\u001b[0m             \u001b[0mself\u001b[0m\u001b[1;33m.\u001b[0m\u001b[0mNhP\u001b[0m\u001b[1;33m.\u001b[0m\u001b[0mupdate\u001b[0m\u001b[1;33m(\u001b[0m\u001b[0mupdate_dict\u001b[0m\u001b[1;33m)\u001b[0m\u001b[1;33m\u001b[0m\u001b[1;33m\u001b[0m\u001b[0m\n\u001b[1;32m---> 81\u001b[1;33m             \u001b[0mself\u001b[0m\u001b[1;33m.\u001b[0m\u001b[0mupdatePattern\u001b[0m\u001b[1;33m(\u001b[0m\u001b[0mupdate_dict\u001b[0m\u001b[1;33m,\u001b[0m \u001b[0mExceptionList\u001b[0m\u001b[1;33m,\u001b[0m \u001b[0mThreshold\u001b[0m\u001b[1;33m)\u001b[0m\u001b[1;33m\u001b[0m\u001b[1;33m\u001b[0m\u001b[0m\n\u001b[0m\u001b[0;32m     82\u001b[0m \u001b[1;33m\u001b[0m\u001b[0m\n",
      "\u001b[1;32mc:\\Users\\Hyeuk\\Desktop\\NetDB\\projects\\NPGS\\InitialPattern.py\u001b[0m in \u001b[0;36mupdatePattern\u001b[1;34m(self, updateDict, ExceptionList, Threshold)\u001b[0m\n\u001b[0;32m     79\u001b[0m         \u001b[1;32mif\u001b[0m \u001b[0mlen\u001b[0m\u001b[1;33m(\u001b[0m\u001b[0mupdate_dict\u001b[0m\u001b[1;33m)\u001b[0m \u001b[1;33m!=\u001b[0m \u001b[1;36m0\u001b[0m\u001b[1;33m:\u001b[0m\u001b[1;33m\u001b[0m\u001b[1;33m\u001b[0m\u001b[0m\n\u001b[0;32m     80\u001b[0m             \u001b[0mself\u001b[0m\u001b[1;33m.\u001b[0m\u001b[0mNhP\u001b[0m\u001b[1;33m.\u001b[0m\u001b[0mupdate\u001b[0m\u001b[1;33m(\u001b[0m\u001b[0mupdate_dict\u001b[0m\u001b[1;33m)\u001b[0m\u001b[1;33m\u001b[0m\u001b[1;33m\u001b[0m\u001b[0m\n\u001b[1;32m---> 81\u001b[1;33m             \u001b[0mself\u001b[0m\u001b[1;33m.\u001b[0m\u001b[0mupdatePattern\u001b[0m\u001b[1;33m(\u001b[0m\u001b[0mupdate_dict\u001b[0m\u001b[1;33m,\u001b[0m \u001b[0mExceptionList\u001b[0m\u001b[1;33m,\u001b[0m \u001b[0mThreshold\u001b[0m\u001b[1;33m)\u001b[0m\u001b[1;33m\u001b[0m\u001b[1;33m\u001b[0m\u001b[0m\n\u001b[0m\u001b[0;32m     82\u001b[0m \u001b[1;33m\u001b[0m\u001b[0m\n",
      "\u001b[1;32mc:\\Users\\Hyeuk\\Desktop\\NetDB\\projects\\NPGS\\InitialPattern.py\u001b[0m in \u001b[0;36mupdatePattern\u001b[1;34m(self, updateDict, ExceptionList, Threshold)\u001b[0m\n\u001b[0;32m     79\u001b[0m         \u001b[1;32mif\u001b[0m \u001b[0mlen\u001b[0m\u001b[1;33m(\u001b[0m\u001b[0mupdate_dict\u001b[0m\u001b[1;33m)\u001b[0m \u001b[1;33m!=\u001b[0m \u001b[1;36m0\u001b[0m\u001b[1;33m:\u001b[0m\u001b[1;33m\u001b[0m\u001b[1;33m\u001b[0m\u001b[0m\n\u001b[0;32m     80\u001b[0m             \u001b[0mself\u001b[0m\u001b[1;33m.\u001b[0m\u001b[0mNhP\u001b[0m\u001b[1;33m.\u001b[0m\u001b[0mupdate\u001b[0m\u001b[1;33m(\u001b[0m\u001b[0mupdate_dict\u001b[0m\u001b[1;33m)\u001b[0m\u001b[1;33m\u001b[0m\u001b[1;33m\u001b[0m\u001b[0m\n\u001b[1;32m---> 81\u001b[1;33m             \u001b[0mself\u001b[0m\u001b[1;33m.\u001b[0m\u001b[0mupdatePattern\u001b[0m\u001b[1;33m(\u001b[0m\u001b[0mupdate_dict\u001b[0m\u001b[1;33m,\u001b[0m \u001b[0mExceptionList\u001b[0m\u001b[1;33m,\u001b[0m \u001b[0mThreshold\u001b[0m\u001b[1;33m)\u001b[0m\u001b[1;33m\u001b[0m\u001b[1;33m\u001b[0m\u001b[0m\n\u001b[0m\u001b[0;32m     82\u001b[0m \u001b[1;33m\u001b[0m\u001b[0m\n",
      "\u001b[1;32mc:\\Users\\Hyeuk\\Desktop\\NetDB\\projects\\NPGS\\InitialPattern.py\u001b[0m in \u001b[0;36mupdatePattern\u001b[1;34m(self, updateDict, ExceptionList, Threshold)\u001b[0m\n\u001b[0;32m     79\u001b[0m         \u001b[1;32mif\u001b[0m \u001b[0mlen\u001b[0m\u001b[1;33m(\u001b[0m\u001b[0mupdate_dict\u001b[0m\u001b[1;33m)\u001b[0m \u001b[1;33m!=\u001b[0m \u001b[1;36m0\u001b[0m\u001b[1;33m:\u001b[0m\u001b[1;33m\u001b[0m\u001b[1;33m\u001b[0m\u001b[0m\n\u001b[0;32m     80\u001b[0m             \u001b[0mself\u001b[0m\u001b[1;33m.\u001b[0m\u001b[0mNhP\u001b[0m\u001b[1;33m.\u001b[0m\u001b[0mupdate\u001b[0m\u001b[1;33m(\u001b[0m\u001b[0mupdate_dict\u001b[0m\u001b[1;33m)\u001b[0m\u001b[1;33m\u001b[0m\u001b[1;33m\u001b[0m\u001b[0m\n\u001b[1;32m---> 81\u001b[1;33m             \u001b[0mself\u001b[0m\u001b[1;33m.\u001b[0m\u001b[0mupdatePattern\u001b[0m\u001b[1;33m(\u001b[0m\u001b[0mupdate_dict\u001b[0m\u001b[1;33m,\u001b[0m \u001b[0mExceptionList\u001b[0m\u001b[1;33m,\u001b[0m \u001b[0mThreshold\u001b[0m\u001b[1;33m)\u001b[0m\u001b[1;33m\u001b[0m\u001b[1;33m\u001b[0m\u001b[0m\n\u001b[0m\u001b[0;32m     82\u001b[0m \u001b[1;33m\u001b[0m\u001b[0m\n",
      "\u001b[1;32mc:\\Users\\Hyeuk\\Desktop\\NetDB\\projects\\NPGS\\InitialPattern.py\u001b[0m in \u001b[0;36mupdatePattern\u001b[1;34m(self, updateDict, ExceptionList, Threshold)\u001b[0m\n\u001b[0;32m     79\u001b[0m         \u001b[1;32mif\u001b[0m \u001b[0mlen\u001b[0m\u001b[1;33m(\u001b[0m\u001b[0mupdate_dict\u001b[0m\u001b[1;33m)\u001b[0m \u001b[1;33m!=\u001b[0m \u001b[1;36m0\u001b[0m\u001b[1;33m:\u001b[0m\u001b[1;33m\u001b[0m\u001b[1;33m\u001b[0m\u001b[0m\n\u001b[0;32m     80\u001b[0m             \u001b[0mself\u001b[0m\u001b[1;33m.\u001b[0m\u001b[0mNhP\u001b[0m\u001b[1;33m.\u001b[0m\u001b[0mupdate\u001b[0m\u001b[1;33m(\u001b[0m\u001b[0mupdate_dict\u001b[0m\u001b[1;33m)\u001b[0m\u001b[1;33m\u001b[0m\u001b[1;33m\u001b[0m\u001b[0m\n\u001b[1;32m---> 81\u001b[1;33m             \u001b[0mself\u001b[0m\u001b[1;33m.\u001b[0m\u001b[0mupdatePattern\u001b[0m\u001b[1;33m(\u001b[0m\u001b[0mupdate_dict\u001b[0m\u001b[1;33m,\u001b[0m \u001b[0mExceptionList\u001b[0m\u001b[1;33m,\u001b[0m \u001b[0mThreshold\u001b[0m\u001b[1;33m)\u001b[0m\u001b[1;33m\u001b[0m\u001b[1;33m\u001b[0m\u001b[0m\n\u001b[0m\u001b[0;32m     82\u001b[0m \u001b[1;33m\u001b[0m\u001b[0m\n",
      "\u001b[1;32mc:\\Users\\Hyeuk\\Desktop\\NetDB\\projects\\NPGS\\InitialPattern.py\u001b[0m in \u001b[0;36mupdatePattern\u001b[1;34m(self, updateDict, ExceptionList, Threshold)\u001b[0m\n\u001b[0;32m     79\u001b[0m         \u001b[1;32mif\u001b[0m \u001b[0mlen\u001b[0m\u001b[1;33m(\u001b[0m\u001b[0mupdate_dict\u001b[0m\u001b[1;33m)\u001b[0m \u001b[1;33m!=\u001b[0m \u001b[1;36m0\u001b[0m\u001b[1;33m:\u001b[0m\u001b[1;33m\u001b[0m\u001b[1;33m\u001b[0m\u001b[0m\n\u001b[0;32m     80\u001b[0m             \u001b[0mself\u001b[0m\u001b[1;33m.\u001b[0m\u001b[0mNhP\u001b[0m\u001b[1;33m.\u001b[0m\u001b[0mupdate\u001b[0m\u001b[1;33m(\u001b[0m\u001b[0mupdate_dict\u001b[0m\u001b[1;33m)\u001b[0m\u001b[1;33m\u001b[0m\u001b[1;33m\u001b[0m\u001b[0m\n\u001b[1;32m---> 81\u001b[1;33m             \u001b[0mself\u001b[0m\u001b[1;33m.\u001b[0m\u001b[0mupdatePattern\u001b[0m\u001b[1;33m(\u001b[0m\u001b[0mupdate_dict\u001b[0m\u001b[1;33m,\u001b[0m \u001b[0mExceptionList\u001b[0m\u001b[1;33m,\u001b[0m \u001b[0mThreshold\u001b[0m\u001b[1;33m)\u001b[0m\u001b[1;33m\u001b[0m\u001b[1;33m\u001b[0m\u001b[0m\n\u001b[0m\u001b[0;32m     82\u001b[0m \u001b[1;33m\u001b[0m\u001b[0m\n",
      "\u001b[1;32mc:\\Users\\Hyeuk\\Desktop\\NetDB\\projects\\NPGS\\InitialPattern.py\u001b[0m in \u001b[0;36mupdatePattern\u001b[1;34m(self, updateDict, ExceptionList, Threshold)\u001b[0m\n\u001b[0;32m     79\u001b[0m         \u001b[1;32mif\u001b[0m \u001b[0mlen\u001b[0m\u001b[1;33m(\u001b[0m\u001b[0mupdate_dict\u001b[0m\u001b[1;33m)\u001b[0m \u001b[1;33m!=\u001b[0m \u001b[1;36m0\u001b[0m\u001b[1;33m:\u001b[0m\u001b[1;33m\u001b[0m\u001b[1;33m\u001b[0m\u001b[0m\n\u001b[0;32m     80\u001b[0m             \u001b[0mself\u001b[0m\u001b[1;33m.\u001b[0m\u001b[0mNhP\u001b[0m\u001b[1;33m.\u001b[0m\u001b[0mupdate\u001b[0m\u001b[1;33m(\u001b[0m\u001b[0mupdate_dict\u001b[0m\u001b[1;33m)\u001b[0m\u001b[1;33m\u001b[0m\u001b[1;33m\u001b[0m\u001b[0m\n\u001b[1;32m---> 81\u001b[1;33m             \u001b[0mself\u001b[0m\u001b[1;33m.\u001b[0m\u001b[0mupdatePattern\u001b[0m\u001b[1;33m(\u001b[0m\u001b[0mupdate_dict\u001b[0m\u001b[1;33m,\u001b[0m \u001b[0mExceptionList\u001b[0m\u001b[1;33m,\u001b[0m \u001b[0mThreshold\u001b[0m\u001b[1;33m)\u001b[0m\u001b[1;33m\u001b[0m\u001b[1;33m\u001b[0m\u001b[0m\n\u001b[0m\u001b[0;32m     82\u001b[0m \u001b[1;33m\u001b[0m\u001b[0m\n",
      "\u001b[1;32mc:\\Users\\Hyeuk\\Desktop\\NetDB\\projects\\NPGS\\InitialPattern.py\u001b[0m in \u001b[0;36mupdatePattern\u001b[1;34m(self, updateDict, ExceptionList, Threshold)\u001b[0m\n\u001b[0;32m     76\u001b[0m             \u001b[0mupdate_dict\u001b[0m \u001b[1;33m=\u001b[0m \u001b[1;33m[\u001b[0m\u001b[1;33m]\u001b[0m\u001b[1;33m\u001b[0m\u001b[1;33m\u001b[0m\u001b[0m\n\u001b[0;32m     77\u001b[0m         \u001b[1;32melse\u001b[0m\u001b[1;33m:\u001b[0m\u001b[1;33m\u001b[0m\u001b[1;33m\u001b[0m\u001b[0m\n\u001b[1;32m---> 78\u001b[1;33m             \u001b[0mupdate_dict\u001b[0m \u001b[1;33m=\u001b[0m \u001b[0mself\u001b[0m\u001b[1;33m.\u001b[0m\u001b[0mpattern_gen\u001b[0m\u001b[1;33m(\u001b[0m\u001b[0mupdateDict\u001b[0m\u001b[1;33m,\u001b[0m \u001b[0mExceptionList\u001b[0m\u001b[1;33m,\u001b[0m \u001b[0mThreshold\u001b[0m\u001b[1;33m,\u001b[0m \u001b[0mpatternSize\u001b[0m\u001b[1;33m)\u001b[0m\u001b[1;33m\u001b[0m\u001b[1;33m\u001b[0m\u001b[0m\n\u001b[0m\u001b[0;32m     79\u001b[0m         \u001b[1;32mif\u001b[0m \u001b[0mlen\u001b[0m\u001b[1;33m(\u001b[0m\u001b[0mupdate_dict\u001b[0m\u001b[1;33m)\u001b[0m \u001b[1;33m!=\u001b[0m \u001b[1;36m0\u001b[0m\u001b[1;33m:\u001b[0m\u001b[1;33m\u001b[0m\u001b[1;33m\u001b[0m\u001b[0m\n\u001b[0;32m     80\u001b[0m             \u001b[0mself\u001b[0m\u001b[1;33m.\u001b[0m\u001b[0mNhP\u001b[0m\u001b[1;33m.\u001b[0m\u001b[0mupdate\u001b[0m\u001b[1;33m(\u001b[0m\u001b[0mupdate_dict\u001b[0m\u001b[1;33m)\u001b[0m\u001b[1;33m\u001b[0m\u001b[1;33m\u001b[0m\u001b[0m\n",
      "\u001b[1;32mc:\\Users\\Hyeuk\\Desktop\\NetDB\\projects\\NPGS\\InitialPattern.py\u001b[0m in \u001b[0;36mpattern_gen\u001b[1;34m(self, ptternFrequency, ExceptionList, pttern_th, patternSize)\u001b[0m\n\u001b[0;32m     47\u001b[0m                             \u001b[1;32mif\u001b[0m \u001b[0mpt_tgt\u001b[0m\u001b[1;33m[\u001b[0m\u001b[1;33m:\u001b[0m\u001b[1;33m-\u001b[0m\u001b[1;36m1\u001b[0m\u001b[1;33m]\u001b[0m \u001b[1;33m==\u001b[0m \u001b[0mpt_scr\u001b[0m\u001b[1;33m[\u001b[0m\u001b[1;36m1\u001b[0m\u001b[1;33m:\u001b[0m\u001b[1;33m]\u001b[0m\u001b[1;33m:\u001b[0m \u001b[1;31m#앞, 뒤\u001b[0m\u001b[1;33m\u001b[0m\u001b[1;33m\u001b[0m\u001b[0m\n\u001b[0;32m     48\u001b[0m                                 \u001b[0mpt\u001b[0m \u001b[1;33m=\u001b[0m \u001b[0mpt_scr\u001b[0m\u001b[1;33m[\u001b[0m\u001b[1;36m0\u001b[0m\u001b[1;33m]\u001b[0m \u001b[1;33m+\u001b[0m \u001b[1;34m'/'\u001b[0m \u001b[1;33m+\u001b[0m \u001b[0mpt1\u001b[0m\u001b[1;33m\u001b[0m\u001b[1;33m\u001b[0m\u001b[0m\n\u001b[1;32m---> 49\u001b[1;33m                             \u001b[1;32melif\u001b[0m \u001b[0mpt_tgt\u001b[0m\u001b[1;33m[\u001b[0m\u001b[1;36m1\u001b[0m\u001b[1;33m:\u001b[0m\u001b[1;33m]\u001b[0m \u001b[1;33m==\u001b[0m \u001b[0mpt_scr\u001b[0m\u001b[1;33m[\u001b[0m\u001b[1;33m:\u001b[0m\u001b[1;33m-\u001b[0m\u001b[1;36m1\u001b[0m\u001b[1;33m]\u001b[0m\u001b[1;33m:\u001b[0m \u001b[1;31m#뒤, 앞\u001b[0m\u001b[1;33m\u001b[0m\u001b[1;33m\u001b[0m\u001b[0m\n\u001b[0m\u001b[0;32m     50\u001b[0m                                 \u001b[0mpt\u001b[0m \u001b[1;33m=\u001b[0m \u001b[0mpt1\u001b[0m \u001b[1;33m+\u001b[0m \u001b[1;34m'/'\u001b[0m \u001b[1;33m+\u001b[0m \u001b[0mpt_scr\u001b[0m\u001b[1;33m[\u001b[0m\u001b[1;33m-\u001b[0m\u001b[1;36m1\u001b[0m\u001b[1;33m]\u001b[0m\u001b[1;33m\u001b[0m\u001b[1;33m\u001b[0m\u001b[0m\n\u001b[0;32m     51\u001b[0m                             \u001b[1;32melse\u001b[0m\u001b[1;33m:\u001b[0m\u001b[1;33m\u001b[0m\u001b[1;33m\u001b[0m\u001b[0m\n",
      "\u001b[1;31mKeyboardInterrupt\u001b[0m: "
     ]
    }
   ],
   "source": [
    "from InitialGraphs import Graphdata\n",
    "from InitialPattern import Pattern\n",
    "from GraphPattern import PatternMarge\n",
    "import time\n",
    "\n",
    "fileName = 'NCI1'\n",
    "pers = 20 # N-hop Pattern Filtering Ratio\n",
    "psize = 100000 # 𝐹𝑟𝑒𝑞𝑢𝑒𝑛𝑡 𝑃𝑎𝑡𝑡𝑒𝑟𝑛 𝑀𝑎𝑛𝑎𝑔𝑚𝑒𝑛𝑡 Table Size\n",
    "bind = {}\n",
    "\n",
    "s1 = time.time()\n",
    "# IGPath = './Gen_Evolution_set/' + fileName + '/' + fileName + '_' + str(i) + '.edges'\n",
    "# lbPath = './dataset/' + fileName + '/' + fileName + '.node_labels'\n",
    "IGPath = './dataset/' + fileName + '/' + fileName + '.edges' #sys.argv[1]\n",
    "lbPath = './dataset/' + fileName + '/' + fileName + '.node_labels' #sys.argv[2]\n",
    "Separator = ','\n",
    "\n",
    "DataT0 = Graphdata(IGPath, lbPath, Separator)\n",
    "DataP0 = Pattern(DataT0.OhP, bind, pers, psize)\n",
    "\n",
    "FP = DataP0.NhP\n",
    "print(len(FP))\n",
    "PM = PatternMarge(DataT0.IG, DataP0.NhP, DataT0.lbDict, DataT0.nList)\n",
    "Ge = PM.SG\n",
    "e1 = time.time() - s1\n",
    "print(len(PM.pCont))\n",
    "print(e1)\n",
    "\n",
    "f = open('./Result/' + fileName + '_' + str(len(DataP0.new_pt_fq)) + '_' + str(pers) + '.edges', 'w')\n",
    "\n",
    "for e in Ge:\n",
    "    str_e = e[0] + ',' + e[1] + '\\n'\n",
    "    f.write(str_e)\n",
    "        \n",
    "f.close()\n",
    "\n",
    "P_id_list = list(sorted(PM.P_id_dict.items(), key = lambda item: item[1], reverse = True))\n",
    "Gp = P_id_list\n",
    "f = open('./Result/' + fileName + '_' + str(len(DataP0.new_pt_fq)) + '_' + str(pers) + '.pattern', 'w')\n",
    "\n",
    "for e in Gp:\n",
    "    str_e = e[1] + ',' + e[0] + '\\n'\n",
    "    f.write(str_e)\n",
    "        \n",
    "f.close()\n",
    "\n",
    "Gl = list(sorted(PM.pNodeDict.items()))\n",
    "f = open('./Result/' + fileName + '_' + str(len(DataP0.new_pt_fq)) + '_' + str(pers) + '.node_labels', 'w')\n",
    "\n",
    "for e in Gl:\n",
    "    str_e = e[0] + ',' + e[1] + '\\n'\n",
    "    f.write(str_e)\n",
    "        \n",
    "f.close()"
   ]
  },
  {
   "cell_type": "code",
   "execution_count": 20,
   "metadata": {},
   "outputs": [
    {
     "name": "stdout",
     "output_type": "stream",
     "text": [
      "3656\n",
      "331\n",
      "33346\n",
      "31524\n",
      "edges 452.81 KB\n",
      "pattern 5.49 KB\n",
      "node_labels 347.45 KB\n",
      "Sum File Size: 805.75 KB bytes\n"
     ]
    }
   ],
   "source": [
    "print(DataP0.Threshold)\n",
    "print(len(DataP0.new_pt_fq))\n",
    "print(len(PM.pNodeDict))\n",
    "print(len(PM.pEdgeList))\n",
    "\n",
    "def convert_size(size_bytes):\n",
    "    import math\n",
    "    if size_bytes == 0:\n",
    "        return \"0B\"\n",
    "    size_name = (\"B\", \"KB\", \"MB\", \"GB\", \"TB\", \"PB\", \"EB\", \"ZB\", \"YB\")\n",
    "    i = int(math.floor(math.log(size_bytes, 1024)))\n",
    "    p = math.pow(1024, i)\n",
    "    s = round(size_bytes / p, 2)\n",
    "    return \"%s %s\" % (s, size_name[i])\n",
    "\n",
    "import os\n",
    "file_name = './Result/' + fileName + '_' + str(len(DataP0.new_pt_fq)) + '_' + str(pers)\n",
    "extension = ['.edges', '.pattern', '.node_labels']\n",
    "file_size = 0\n",
    "for e in extension:\n",
    "    file_size = file_size + os.path.getsize(file_name + e) \n",
    "    print(e.split('.')[1], convert_size(os.path.getsize(file_name + e)))\n",
    "    \n",
    "print('Sum File Size:', convert_size(file_size), 'bytes')\n",
    "\n",
    "input_file = [IGPath, lbPath]\n",
    "file_size1 = 0\n",
    "for ip in input_file:\n",
    "    file_size1 = file_size1 + os.path.getsize(ip) \n",
    "#     print(ip.split('.')[2], convert_size(os.path.getsize(ip)))\n",
    "    \n",
    "# print('Sum input File Size:', convert_size(file_size1), 'bytes')"
   ]
  }
 ],
 "metadata": {
  "kernelspec": {
   "display_name": "Python 3.7.13 ('py3')",
   "language": "python",
   "name": "python3"
  },
  "language_info": {
   "codemirror_mode": {
    "name": "ipython",
    "version": 3
   },
   "file_extension": ".py",
   "mimetype": "text/x-python",
   "name": "python",
   "nbconvert_exporter": "python",
   "pygments_lexer": "ipython3",
   "version": "3.7.13"
  },
  "orig_nbformat": 4,
  "vscode": {
   "interpreter": {
    "hash": "c89596e0519853efb49a611db4a101fa877490b11f20668452a7d70157c01626"
   }
  }
 },
 "nbformat": 4,
 "nbformat_minor": 2
}
