{
 "cells": [
  {
   "cell_type": "code",
   "execution_count": 1,
   "metadata": {},
   "outputs": [],
   "source": [
    "class Graph:\n",
    "    def __init__(self):\n",
    "        self.adj_dict = {}\n",
    "        \n",
    "    def add_edge(self, v, u) :\n",
    "        if v not in self.adj_dict:\n",
    "            self.adj_dict[v] = {u:1}\n",
    "        else:\n",
    "            self.adj_dict[v][u] = 1\n",
    "            \n",
    "        if u not in self.adj_dict:\n",
    "            self.adj_dict[u] = {v:1}\n",
    "        else:\n",
    "            self.adj_dict[u][v] = 1\n",
    "        \n",
    "    def adj(self, v):\n",
    "        return self.adj_dict[v]\n",
    "    \n",
    "    def vertex(self, v):\n",
    "        self.adj_list = self.adj_dict[v]\n",
    "        self.deg = sum(list(map(int, self.adj_list.values())))\n",
    "        self.vertex_num = 1\n",
    "        \n",
    "        return self.vertex_num, self.adj_list, self.deg"
   ]
  },
  {
   "cell_type": "code",
   "execution_count": 2,
   "metadata": {},
   "outputs": [
    {
     "data": {
      "text/plain": [
       "<function TextIOWrapper.close()>"
      ]
     },
     "execution_count": 2,
     "metadata": {},
     "output_type": "execute_result"
    }
   ],
   "source": [
    "import sys\n",
    "\n",
    "edges_path = './dataset/soc-YouTube-ASU/soc-YouTube-ASU.edges' #sys.argv[1]\n",
    "label_path = './dataset/soc-YouTube-ASU/soc-YouTube-ASU.node_labels' #sys.argv[2]\n",
    "k = 7 #sys.argv[3]\n",
    "label_dict = {}\n",
    "graph_sort = []\n",
    "label_kind = []\n",
    "superNode = {}\n",
    "label_f = open(label_path, 'r')\n",
    "while True:\n",
    "    line = label_f.readline().replace('\\n', '').strip()\n",
    "    if not line:\n",
    "        label_kind.append('0')\n",
    "        break\n",
    "    node = line.split(',')[0]\n",
    "    label = line.split(',')[1]\n",
    "    label_dict[node] = [label]\n",
    "    label_kind.append(label)\n",
    "label_f.close\n",
    "\n",
    "label_kind = list(set(label_kind))\n",
    "\n",
    "edge_f = open(edges_path, 'r')\n",
    "gs = Graph()\n",
    "while True:\n",
    "    line = edge_f.readline().replace('\\n', '').strip()\n",
    "    if not line:\n",
    "        break\n",
    "    \n",
    "    v = line.split(',')[0]\n",
    "    u = line.split(',')[1]\n",
    "    if v not in label_dict:\n",
    "        label_dict[v] = ['0']\n",
    "        \n",
    "    if u not in label_dict:\n",
    "        label_dict[u] = ['0']\n",
    "    graph_sort.append([v,u])\n",
    "    gs.add_edge(v,u)\n",
    "edge_f.close\n",
    "\n"
   ]
  },
  {
   "cell_type": "code",
   "execution_count": 3,
   "metadata": {},
   "outputs": [],
   "source": [
    "\n",
    "def Super_node_generator(v):\n",
    "    num_v, adj_v, deg_v = gs.vertex(v)\n",
    "    label_v = {}\n",
    "    \n",
    "    for l in label_kind:\n",
    "        label_v[l] = 0\n",
    "\n",
    "    if v in label_dict:\n",
    "        for ld_v in label_dict[v]:\n",
    "            label_v[ld_v] = label_v[ld_v] + 1\n",
    "            \n",
    "    Vi = [num_v, deg_v, adj_v, label_v]\n",
    "    \n",
    "    return Vi\n",
    "    \n",
    "def Super_node_similarity(v, Vi, u, Vj):\n",
    "    \n",
    "    # Vi = Super_node_generator(v)\n",
    "    # Vj = Super_node_generator(u)\n",
    "\n",
    "    ew_v = Vi[2][u]/Vi[1]\n",
    "    ew_u = Vj[2][v]/Vj[1]\n",
    "    n_max = max(Vi[0], Vj[0])\n",
    "    d_max = max(Vi[1], Vj[1])\n",
    "\n",
    "    lm_v = sum(list(map(int, Vi[3].values())))\n",
    "    lm_u = sum(list(map(int, Vj[3].values())))\n",
    "    dis_att = 0\n",
    "    # print(Vi)\n",
    "    # print(Vj)\n",
    "    # print(abs(Vi[0]-Vj[0])/n_max)\n",
    "    # print(abs(Vi[1]-Vj[1])/d_max)\n",
    "    # print(abs((Vi[2][u]/Vi[1]) - (Vj[2][v]/Vj[1])))\n",
    "    \n",
    "    dis_st = (abs(Vi[0]-Vj[0])/n_max) + (abs(Vi[1]-Vj[1])/d_max) + abs((Vi[2][u]/Vi[1]) - (Vj[2][v]/Vj[1]))\n",
    "\n",
    "    for vl in Vi[3]:\n",
    "        dis_att += abs(Vi[3][vl]/lm_v - Vj[3][vl]/lm_u)/2\n",
    "        \n",
    "    # print(dis_st)\n",
    "    # print(dis_att)\n",
    "    dis = (dis_st + dis_att)/2\n",
    "\n",
    "    sim = 1 - dis\n",
    "    # print(sim)\n",
    "    return sim\n",
    "\n",
    "def Merged_super_node(v, u, Vi, Vj):\n",
    "    num_v = Vi[0]+Vj[0]\n",
    "    adj_v = {}\n",
    "    label_v = {}\n",
    "    for adj in Vi[2]:\n",
    "        if adj == u:\n",
    "            pass\n",
    "        if adj in Vj[2]:\n",
    "            adj_v[adj] = Vi[2][adj] + Vj[2][adj]\n",
    "        else:\n",
    "            adj_v[adj] = Vi[2][adj]\n",
    "            \n",
    "    for adj in Vj[2]:\n",
    "        if adj == v:\n",
    "            pass\n",
    "        if adj not in Vi[2]:\n",
    "            adj_v[adj] = Vj[2][adj]\n",
    "            \n",
    "    deg_v = sum(list(map(int, adj_v.values())))\n",
    "    \n",
    "    for lab in Vi[3]:\n",
    "        if lab in Vj[3]:\n",
    "            label_v[lab] = Vi[3][lab] + Vj[3][lab]\n",
    "            \n",
    "    nVi = [num_v, deg_v, adj_v, label_v]\n",
    "    \n",
    "    return nVi"
   ]
  },
  {
   "cell_type": "code",
   "execution_count": 4,
   "metadata": {},
   "outputs": [],
   "source": [
    "for node in list(label_dict.keys()):\n",
    "    superNode[node] = Super_node_generator(node)"
   ]
  },
  {
   "cell_type": "code",
   "execution_count": 5,
   "metadata": {},
   "outputs": [
    {
     "data": {
      "text/plain": [
       "0.9083333333333333"
      ]
     },
     "execution_count": 5,
     "metadata": {},
     "output_type": "execute_result"
    }
   ],
   "source": [
    "Super_node_similarity('81904',superNode['81904'],'89605',superNode['89605'])"
   ]
  },
  {
   "cell_type": "code",
   "execution_count": 6,
   "metadata": {},
   "outputs": [],
   "source": [
    "sim_list = []\n",
    "\n",
    "for v, u in graph_sort:\n",
    "   sim_list.append([v, u, Super_node_similarity(v, superNode[v], u, superNode[u])]) #triple entry\n",
    "   \n",
    "sim_list.sort(reverse=True, key=lambda x:x[2])"
   ]
  },
  {
   "cell_type": "code",
   "execution_count": 7,
   "metadata": {},
   "outputs": [
    {
     "name": "stdout",
     "output_type": "stream",
     "text": [
      "['32', '15437', 1.0]\n"
     ]
    }
   ],
   "source": [
    "print(sim_list[0])"
   ]
  },
  {
   "cell_type": "code",
   "execution_count": 8,
   "metadata": {},
   "outputs": [],
   "source": [
    "def asd(sim_list):\n",
    "    node_list = []\n",
    "    v = sim_list[0][0]\n",
    "    u = sim_list[0][1]\n",
    "    print(v,u,len(sim_list))\n",
    "    superNode[v] = Merged_super_node(superNode[v], superNode[u])\n",
    "    del(superNode[u])\n",
    "    del(sim_list[0])\n",
    "    nei_e = list(superNode[v][2].keys())\n",
    "    for sim_one in sim_list:\n",
    "        if sim_one[0] == v or sim_one[0] == u:\n",
    "            del sim_one\n",
    "        else:\n",
    "            node_list.append(sim_one[0])\n",
    "    node_list = list(set(node_list))\n",
    "    \n",
    "    for n in nei_e:\n",
    "        if n in sim_list:\n",
    "            sim_list.append([v, n, Super_node_similarity(v, superNode[v], n, superNode[n])])\n",
    "        else:\n",
    "            pass\n",
    "    # i += i+1\n",
    "    sim_list.sort(reverse=True, key=lambda x:x[2])\n",
    "    return sim_list"
   ]
  },
  {
   "cell_type": "code",
   "execution_count": 9,
   "metadata": {},
   "outputs": [
    {
     "name": "stdout",
     "output_type": "stream",
     "text": [
      "32 15437 2990443\n"
     ]
    },
    {
     "ename": "KeyboardInterrupt",
     "evalue": "",
     "output_type": "error",
     "traceback": [
      "\u001b[1;31m---------------------------------------------------------------------------\u001b[0m",
      "\u001b[1;31mKeyboardInterrupt\u001b[0m                         Traceback (most recent call last)",
      "\u001b[1;32m~\\AppData\\Local\\Temp\\ipykernel_28304\\3068090571.py\u001b[0m in \u001b[0;36m<module>\u001b[1;34m\u001b[0m\n\u001b[0;32m     16\u001b[0m         \u001b[0mnode_list\u001b[0m \u001b[1;33m=\u001b[0m \u001b[0mlist\u001b[0m\u001b[1;33m(\u001b[0m\u001b[0mset\u001b[0m\u001b[1;33m(\u001b[0m\u001b[0mnode_list\u001b[0m\u001b[1;33m)\u001b[0m\u001b[1;33m)\u001b[0m\u001b[1;33m\u001b[0m\u001b[1;33m\u001b[0m\u001b[0m\n\u001b[0;32m     17\u001b[0m \u001b[1;33m\u001b[0m\u001b[0m\n\u001b[1;32m---> 18\u001b[1;33m         \u001b[1;32mfor\u001b[0m \u001b[0mn\u001b[0m \u001b[1;32min\u001b[0m \u001b[0mnei_e\u001b[0m\u001b[1;33m:\u001b[0m\u001b[1;33m\u001b[0m\u001b[1;33m\u001b[0m\u001b[0m\n\u001b[0m\u001b[0;32m     19\u001b[0m             \u001b[1;32mif\u001b[0m \u001b[0mn\u001b[0m \u001b[1;32min\u001b[0m \u001b[0msim_list\u001b[0m\u001b[1;33m:\u001b[0m\u001b[1;33m\u001b[0m\u001b[1;33m\u001b[0m\u001b[0m\n\u001b[0;32m     20\u001b[0m                 \u001b[0msim_list\u001b[0m\u001b[1;33m.\u001b[0m\u001b[0mappend\u001b[0m\u001b[1;33m(\u001b[0m\u001b[1;33m[\u001b[0m\u001b[0mv\u001b[0m\u001b[1;33m,\u001b[0m \u001b[0mn\u001b[0m\u001b[1;33m,\u001b[0m \u001b[0mSuper_node_similarity\u001b[0m\u001b[1;33m(\u001b[0m\u001b[0mv\u001b[0m\u001b[1;33m,\u001b[0m \u001b[0msuperNode\u001b[0m\u001b[1;33m[\u001b[0m\u001b[0mv\u001b[0m\u001b[1;33m]\u001b[0m\u001b[1;33m,\u001b[0m \u001b[0mn\u001b[0m\u001b[1;33m,\u001b[0m \u001b[0msuperNode\u001b[0m\u001b[1;33m[\u001b[0m\u001b[0mn\u001b[0m\u001b[1;33m]\u001b[0m\u001b[1;33m)\u001b[0m\u001b[1;33m]\u001b[0m\u001b[1;33m)\u001b[0m\u001b[1;33m\u001b[0m\u001b[1;33m\u001b[0m\u001b[0m\n",
      "\u001b[1;31mKeyboardInterrupt\u001b[0m: "
     ]
    }
   ],
   "source": [
    "while(True): #k\n",
    "    node_list = []\n",
    "    v = sim_list[0][0]\n",
    "    u = sim_list[0][1]\n",
    "    print(v,u,len(sim_list))\n",
    "    if v in superNode and u in superNode:\n",
    "        superNode[v] = Merged_super_node(v, u, superNode[v], superNode[u])\n",
    "        del(superNode[u])\n",
    "        del(sim_list[0])\n",
    "        nei_e = list(superNode[v][2].keys())\n",
    "        for sim_one in sim_list:\n",
    "            if sim_one[0] == v or sim_one[0] == u:\n",
    "                del sim_one\n",
    "            else:\n",
    "                node_list.append(sim_one[0])\n",
    "        node_list = list(set(node_list))\n",
    "        \n",
    "        for n in nei_e:\n",
    "            if n in sim_list:\n",
    "                sim_list.append([v, n, Super_node_similarity(v, superNode[v], n, superNode[n])])\n",
    "            else:\n",
    "                pass\n",
    "        sim_list.sort(reverse=True, key=lambda x:x[2])\n",
    "        \n",
    "    else:\n",
    "        del(sim_list[0])\n",
    "        sim_list.sort(reverse=True, key=lambda x:x[2])\n",
    "    print(len(sim_list))\n",
    "    if len(sim_list) <= 32:\n",
    "        break"
   ]
  },
  {
   "cell_type": "code",
   "execution_count": null,
   "metadata": {},
   "outputs": [],
   "source": []
  }
 ],
 "metadata": {
  "kernelspec": {
   "display_name": "Python 3.7.13 ('py3')",
   "language": "python",
   "name": "python3"
  },
  "language_info": {
   "codemirror_mode": {
    "name": "ipython",
    "version": 3
   },
   "file_extension": ".py",
   "mimetype": "text/x-python",
   "name": "python",
   "nbconvert_exporter": "python",
   "pygments_lexer": "ipython3",
   "version": "3.7.13"
  },
  "orig_nbformat": 4,
  "vscode": {
   "interpreter": {
    "hash": "c89596e0519853efb49a611db4a101fa877490b11f20668452a7d70157c01626"
   }
  }
 },
 "nbformat": 4,
 "nbformat_minor": 2
}
