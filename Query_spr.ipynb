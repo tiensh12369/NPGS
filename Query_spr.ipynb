{
 "cells": [
  {
   "cell_type": "code",
   "execution_count": 7,
   "metadata": {},
   "outputs": [
    {
     "name": "stdout",
     "output_type": "stream",
     "text": [
      "노드 수\n",
      "18470\n",
      "61157\n"
     ]
    }
   ],
   "source": [
    "from InitialGraphs import Graphdata\n",
    "import sys\n",
    "import time\n",
    "import random\n",
    "\n",
    "random.seed(100)\n",
    "\n",
    "# fileName = 'DBLP-v1'\n",
    "fileName = 'soc-political-retweet'\n",
    "\n",
    "# in_path = './dataset/' + fileName + '/' + fileName + '.edges' #sys.argv[1]\n",
    "in_path = './Result/NPGS/' + fileName + '_result_SA.edges'\n",
    "\n",
    "\n",
    "in_label = './dataset/' + fileName + '/' + fileName + '.node_labels'\n",
    "node_query_file = './query/spr_node.txt'\n",
    "edge_query_file = './query/spr_edge.txt'\n",
    "randompath = file = './query/spr_randompath.txt'\n",
    "pattern_query_file = './query/spr_pattern.txt'\n",
    "Separator = ','\n",
    "\n",
    "gd = Graphdata(in_path, in_label, Separator)\n",
    "print('노드 수')\n",
    "print(len(gd.nList))\n",
    "print(len(gd.IG.edge_list))\n"
   ]
  },
  {
   "cell_type": "code",
   "execution_count": 12,
   "metadata": {},
   "outputs": [
    {
     "name": "stdout",
     "output_type": "stream",
     "text": [
      "질의1 개수\n",
      "18470\n",
      "2.4081451892852783 18470 0 []\n"
     ]
    }
   ],
   "source": [
    "queryList1 = []\n",
    "f = open(node_query_file, 'r')\n",
    "while True:\n",
    "    line = f.readline().replace('\\n', '').strip()\n",
    "    if not line:\n",
    "        break\n",
    "\n",
    "    queryList1.append(line)\n",
    "\n",
    "f.close\n",
    "print('질의1 개수')\n",
    "print(len(queryList1))\n",
    "\n",
    "s1 = time.time()\n",
    "Correct = 0\n",
    "wrong= 0\n",
    "wronglist =[]\n",
    "\n",
    "for nq in queryList1:\n",
    "    if nq in gd.nList:\n",
    "        Correct += 1\n",
    "    else:\n",
    "        wrong += 1\n",
    "        wronglist.append(nq)\n",
    "        \n",
    "e = time.time() - s1\n",
    "print(e, Correct, wrong, wronglist)\n",
    "        "
   ]
  },
  {
   "cell_type": "code",
   "execution_count": 9,
   "metadata": {},
   "outputs": [
    {
     "name": "stdout",
     "output_type": "stream",
     "text": [
      "질의2 개수\n",
      "61157\n",
      "35.65626406669617 61157 0\n"
     ]
    }
   ],
   "source": [
    "queryList2 = []\n",
    "f = open(edge_query_file, 'r')\n",
    "while True:\n",
    "    line = f.readline().replace('\\n', '').strip()\n",
    "    if not line:\n",
    "        break\n",
    "    v = line.split(Separator)[0]\n",
    "    u = line.split(Separator)[1]\n",
    "    queryList2.append([v, u])\n",
    "\n",
    "f.close\n",
    "print('질의2 개수')\n",
    "print(len(queryList2))\n",
    "\n",
    "s1 = time.time()\n",
    "Correct = 0\n",
    "wrong= 0\n",
    "wronglist =[]\n",
    "\n",
    "for eq in queryList2:\n",
    "    if eq in gd.IG.edge_list:\n",
    "        Correct += 1\n",
    "    else:\n",
    "        wrong += 1\n",
    "        wronglist.append(eq)\n",
    "        \n",
    "e = time.time() - s1\n",
    "print(e, Correct, wrong)\n",
    "        "
   ]
  },
  {
   "cell_type": "code",
   "execution_count": 10,
   "metadata": {},
   "outputs": [
    {
     "name": "stdout",
     "output_type": "stream",
     "text": [
      "질의3 개수\n",
      "99\n",
      "373.07417488098145 99 0 []\n"
     ]
    }
   ],
   "source": [
    "queryList3 = []\n",
    "f = open(randompath, 'r')\n",
    "while True:\n",
    "    line = f.readline().replace('\\n', '').strip()\n",
    "    if not line:\n",
    "        break\n",
    "    v = line.split(Separator)[0]\n",
    "    u = line.split(Separator)[1]\n",
    "    queryList3.append([v, u])\n",
    "\n",
    "f.close\n",
    "print('질의3 개수')\n",
    "print(len(queryList3))\n",
    "\n",
    "s1 = time.time()\n",
    "Correct = 0\n",
    "wrong= 0\n",
    "wronglist =[]\n",
    "\n",
    "# print(queryList3)\n",
    "def BFS(sq, eq):\n",
    "    visited = []\n",
    "    queue = [sq]\n",
    "    t = 0\n",
    "    while queue:\n",
    "        t += 1\n",
    "        n = queue[0]\n",
    "        del queue[0]\n",
    "        \n",
    "        if n == eq:\n",
    "            return True\n",
    "        \n",
    "        # if t == 100:\n",
    "        #     return False\n",
    "        sq_n = list(gd.IG.vertex(n)[2].keys()) #이웃 정점 집합\n",
    "        \n",
    "        if n not in visited:\n",
    "            visited.append(n)\n",
    "            queue.extend(sq_n)\n",
    "    \n",
    "    return False\n",
    "    \n",
    "    \n",
    "for sq, eq in queryList3:\n",
    "    # print(f'시작: {sq} -> 도착: {eq}')\n",
    "    if BFS(sq, eq) == True:\n",
    "        Correct += 1\n",
    "    else:\n",
    "        wrong += 1\n",
    "        \n",
    "e = time.time() - s1\n",
    "print(e, Correct, wrong, wronglist)\n",
    "        "
   ]
  },
  {
   "cell_type": "code",
   "execution_count": 16,
   "metadata": {},
   "outputs": [
    {
     "name": "stdout",
     "output_type": "stream",
     "text": [
      "질의4 개수\n",
      "21\n",
      "10584 5.153862953186035\n"
     ]
    }
   ],
   "source": [
    "queryList4 = []\n",
    "Separator = '/'\n",
    "f = open(pattern_query_file, 'r')\n",
    "while True:\n",
    "    line = f.readline().replace('\\n', '').strip()\n",
    "    if not line:\n",
    "        break\n",
    "    v = line.split(Separator)\n",
    "    queryList4.append(v)\n",
    "\n",
    "f.close\n",
    "print('질의4 개수')\n",
    "print(len(queryList4))\n",
    "# print(queryList4)\n",
    "s1 = time.time()\n",
    "wrong= 0\n",
    "wronglist =[]\n",
    "\n",
    "# print(queryList3)\n",
    "def DFS(sq, input_pt, pt, visited):\n",
    "    global Correct\n",
    "    visited.append(sq)\n",
    "    sq_n = list(gd.IG.vertex(sq)[2].keys())\n",
    "    lbp = gd.lbDict[sq]\n",
    "    \n",
    "    pt.append(lbp)\n",
    "    \n",
    "    joinp = '/'.join(input_pt)\n",
    "    pt_size = len(input_pt)\n",
    "    \n",
    "    if len(pt) == pt_size:\n",
    "        jopt = '/'.join(pt)\n",
    "        \n",
    "        if jopt == joinp:\n",
    "            \n",
    "            Correct += 1\n",
    "            \n",
    "        del pt[0]\n",
    "        \n",
    "    for i in sq_n:\n",
    "        if i not in visited:\n",
    "            DFS(i, input_pt, pt, visited)\n",
    "\n",
    "    return Correct\n",
    "\n",
    "# v = '1/2/2/2/1/1/2/2/2/1'\n",
    "# v = v.split(Separator)\n",
    "visited = []\n",
    "pt = []\n",
    "\n",
    "#0,2,5,8,12,17\n",
    "# for qp in queryList4:\n",
    "Correct = 0\n",
    "DFS('2624', queryList4[8], pt, visited)\n",
    "# print(f'정답수: {Correct}')\n",
    "\n",
    "\n",
    "e = time.time() - s1\n",
    "print(Correct, e)\n",
    "        "
   ]
  },
  {
   "cell_type": "code",
   "execution_count": 14,
   "metadata": {},
   "outputs": [
    {
     "name": "stdout",
     "output_type": "stream",
     "text": [
      "2\n"
     ]
    }
   ],
   "source": []
  },
  {
   "cell_type": "code",
   "execution_count": null,
   "metadata": {},
   "outputs": [],
   "source": []
  }
 ],
 "metadata": {
  "kernelspec": {
   "display_name": "Python 3.7.13 ('py3')",
   "language": "python",
   "name": "python3"
  },
  "language_info": {
   "codemirror_mode": {
    "name": "ipython",
    "version": 3
   },
   "file_extension": ".py",
   "mimetype": "text/x-python",
   "name": "python",
   "nbconvert_exporter": "python",
   "pygments_lexer": "ipython3",
   "version": "3.7.13"
  },
  "orig_nbformat": 4,
  "vscode": {
   "interpreter": {
    "hash": "c89596e0519853efb49a611db4a101fa877490b11f20668452a7d70157c01626"
   }
  }
 },
 "nbformat": 4,
 "nbformat_minor": 2
}
