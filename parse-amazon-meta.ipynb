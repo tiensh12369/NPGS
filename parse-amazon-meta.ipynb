{
 "cells": [
  {
   "cell_type": "code",
   "execution_count": 2,
   "metadata": {},
   "outputs": [],
   "source": [
    "import gzip\n",
    "from utils import get_line_number\n",
    "def parse(filename):\n",
    "    f = open(filename, 'r', encoding='UTF-8')\n",
    "    entry = {}\n",
    "    categories = []\n",
    "    reviews = []\n",
    "    similar_items = []\n",
    "    \n",
    "    for line in f:\n",
    "        line = line.strip()\n",
    "        colonPos = line.find(':')\n",
    "\n",
    "        if line.startswith(\"Id\"):\n",
    "            yield entry\n",
    "            entry = {}\n",
    "            categories = []\n",
    "            reviews = []\n",
    "            rest = line[colonPos+2:]\n",
    "            entry[\"id\"] = rest.strip()\n",
    "\n",
    "        elif colonPos != -1:\n",
    "            eName = line[:colonPos]\n",
    "            rest = line[colonPos+2:]\n",
    "\n",
    "            if eName in 'group':\n",
    "                entry[eName] = rest.strip()\n",
    "    \n",
    "    yield entry"
   ]
  },
  {
   "cell_type": "code",
   "execution_count": 3,
   "metadata": {},
   "outputs": [],
   "source": [
    "\n",
    "file_path = './dataset/Amazon/amazon-meta.txt'\n",
    "output_path = './dataset/Amazon/amazon.node_labels'"
   ]
  },
  {
   "cell_type": "code",
   "execution_count": 4,
   "metadata": {},
   "outputs": [
    {
     "data": {
      "text/plain": [
       "<function TextIOWrapper.close()>"
      ]
     },
     "execution_count": 4,
     "metadata": {},
     "output_type": "execute_result"
    }
   ],
   "source": [
    "line_num = 15010574\n",
    "f = open(output_path, 'w')\n",
    "c = 0\n",
    "\n",
    "for e in parse(file_path):\n",
    "    c += 1\n",
    "    if e:\n",
    "        if 'group' in e.keys():\n",
    "            str_e = e['id'] + '\t' + e['group'] + '\\n'\n",
    "            f.write(str_e)\n",
    "        if c == line_num:\n",
    "            break\n",
    "f.close"
   ]
  },
  {
   "cell_type": "code",
   "execution_count": null,
   "metadata": {},
   "outputs": [],
   "source": [
    "file_path = './dataset/Amazon/Amazon0302.txt'\n",
    "f = open(file_path, 'r', encoding='UTF-8')\n",
    "for line in f:\n",
    "    line = line.split('\t')\n",
    "    print(line)\n"
   ]
  },
  {
   "cell_type": "code",
   "execution_count": null,
   "metadata": {},
   "outputs": [],
   "source": []
  }
 ],
 "metadata": {
  "kernelspec": {
   "display_name": "py3",
   "language": "python",
   "name": "python3"
  },
  "language_info": {
   "codemirror_mode": {
    "name": "ipython",
    "version": 3
   },
   "file_extension": ".py",
   "mimetype": "text/x-python",
   "name": "python",
   "nbconvert_exporter": "python",
   "pygments_lexer": "ipython3",
   "version": "3.7.13"
  },
  "orig_nbformat": 4,
  "vscode": {
   "interpreter": {
    "hash": "c89596e0519853efb49a611db4a101fa877490b11f20668452a7d70157c01626"
   }
  }
 },
 "nbformat": 4,
 "nbformat_minor": 2
}
