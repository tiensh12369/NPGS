{
 "cells": [
  {
   "cell_type": "code",
   "execution_count": 1,
   "metadata": {},
   "outputs": [
    {
     "data": {
      "text/plain": [
       "<function TextIOWrapper.close()>"
      ]
     },
     "execution_count": 1,
     "metadata": {},
     "output_type": "execute_result"
    }
   ],
   "source": [
    "import sys\n",
    "import time\n",
    "\n",
    "fileName = 'ENZYMES'\n",
    "\n",
    "in_path = './dataset/' + fileName + '/' + fileName + '.edges' #sys.argv[1]\n",
    "out_path = './Gen_Evolution_set/' + fileName + '/' + fileName\n",
    "\n",
    "edge_f = open(in_path, 'r')\n",
    "ori_g = []\n",
    "\n",
    "while True:\n",
    "    line = edge_f.readline().replace('\\n', '').strip()\n",
    "    if not line:\n",
    "        break\n",
    "    \n",
    "    v = line.split(',')[0]\n",
    "    u = line.split(',')[1]\n",
    "    ori_g.append([v,u])\n",
    "\n",
    "edge_f.close"
   ]
  },
  {
   "cell_type": "code",
   "execution_count": 2,
   "metadata": {},
   "outputs": [
    {
     "name": "stdout",
     "output_type": "stream",
     "text": [
      "74564\n",
      "100\n"
     ]
    }
   ],
   "source": [
    "import random\n",
    "\n",
    "random.seed(1)\n",
    "graphSize = len(ori_g)\n",
    "percentTen = [90, 91, 92, 93, 94, 95, 96, 97, 98, 99]\n",
    "percenthund = []\n",
    "for i in range(100):\n",
    "    lindex = i%10\n",
    "    percenthund.append(percentTen[lindex])\n",
    "    \n",
    "percentEdge = []\n",
    "for i in range(len(percenthund)):\n",
    "    T = graphSize*percenthund[i]//100\n",
    "    percentEdge.append(T)\n",
    "\n",
    "print(graphSize)\n",
    "print(len(percentEdge))"
   ]
  },
  {
   "cell_type": "code",
   "execution_count": 3,
   "metadata": {},
   "outputs": [],
   "source": [
    "randomGraph = []\n",
    "for i in range(len(percentEdge)):\n",
    "    randomGraph.append(random.sample(ori_g,percentEdge[i]))"
   ]
  },
  {
   "cell_type": "code",
   "execution_count": 4,
   "metadata": {},
   "outputs": [],
   "source": [
    "for i in range(len(randomGraph)):\n",
    "    file_ext = '.edges'\n",
    "    output_path = out_path + '_'+ str(int(i)) + file_ext\n",
    "\n",
    "    f = open(output_path, 'w')\n",
    "    for l in randomGraph[i]:\n",
    "        l = ','.join(l)\n",
    "        f.write(l + '\\n')\n",
    "    f.close()"
   ]
  },
  {
   "cell_type": "code",
   "execution_count": null,
   "metadata": {},
   "outputs": [],
   "source": []
  }
 ],
 "metadata": {
  "kernelspec": {
   "display_name": "Python 3.7.13 ('py3')",
   "language": "python",
   "name": "python3"
  },
  "language_info": {
   "codemirror_mode": {
    "name": "ipython",
    "version": 3
   },
   "file_extension": ".py",
   "mimetype": "text/x-python",
   "name": "python",
   "nbconvert_exporter": "python",
   "pygments_lexer": "ipython3",
   "version": "3.7.13"
  },
  "orig_nbformat": 4,
  "vscode": {
   "interpreter": {
    "hash": "c89596e0519853efb49a611db4a101fa877490b11f20668452a7d70157c01626"
   }
  }
 },
 "nbformat": 4,
 "nbformat_minor": 2
}
