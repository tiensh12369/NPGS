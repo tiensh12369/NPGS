{
 "cells": [
  {
   "cell_type": "code",
   "execution_count": 2,
   "metadata": {},
   "outputs": [],
   "source": [
    "from InitialGraphs import Graphdata\n",
    "import InitialGraphs\n",
    "\n",
    "def p(integer):\n",
    "    if integer == 1:\n",
    "        return 0.5\n",
    "    elif integer == 2:\n",
    "        return 1\n",
    "    \n",
    "def neighPath(graph, vNeigh, t):\n",
    "    vNeighList = []\n",
    "    for n in vNeigh:\n",
    "        vNeighList.extend(list(graph.vertex(n)[2].keys()))\n",
    "        \n",
    "    if t > 1:\n",
    "        vNeighList2 = neighPath(graph, vNeighList, t-1)\n",
    "        return vNeighList2\n",
    "        \n",
    "    return vNeighList\n",
    "\n",
    "fileName = 'NCI1'\n",
    "\n",
    "IGPath = './dataset/' + fileName + '/' + fileName + '.edges' #sys.argv[1]\n",
    "lbPath = './dataset/' + fileName + '/' + fileName + '.node_labels' #sys.argv[2]\n",
    "Separator = ','\n",
    "t = 2\n",
    "\n",
    "DataT0 = Graphdata(IGPath, lbPath, Separator)\n",
    "graph = DataT0.IG\n",
    "edge_list = []\n",
    "\n",
    "for v,u in graph.edge_list:\n",
    "    xel = []\n",
    "    edgeCount = 0\n",
    "    for i in range(1, t+1):\n",
    "        vNeigh = list(graph.vertex(v)[2].keys())\n",
    "        if i != 1:\n",
    "            vNeigh = neighPath(graph, vNeigh, t)\n",
    "            \n",
    "        for w in vNeigh:\n",
    "            if w == u:\n",
    "                edgeCount += 1\n",
    "\n",
    "    edge_list.append([v,u,edgeCount])\n",
    "\n",
    "edge_list.sort(key=lambda x:x[2], reverse=True)\n",
    "\n",
    "cGraph = InitialGraphs.Graph()\n",
    "aGraph = InitialGraphs.Graph()\n",
    "\n",
    "for v,u,non in edge_list:\n",
    "    aGraph.add_edge(v,u,None)\n",
    "    vNeigh1a = list(aGraph.vertex(v)[2].keys())\n",
    "    uNeigh1a = list(aGraph.vertex(u)[2].keys())\n",
    "\n",
    "    insert = False\n",
    "    \n",
    "    for i in range(1, t+1):\n",
    "        \n",
    "        vNeighc = list(cGraph.vertex(v)[2].keys())\n",
    "        uNeighc = list(cGraph.vertex(u)[2].keys())\n",
    "        \n",
    "        if i != 1:\n",
    "            vNeighc = neighPath(cGraph, vNeighc, i)\n",
    "            uNeighc = neighPath(cGraph, uNeighc, i)\n",
    "\n",
    "        if len(list(set(vNeighc) & set(vNeigh1a))) < p(i) * len(vNeigh1a) or len(list(set(uNeighc) & set(uNeigh1a))) < p(i) * len(uNeigh1a):\n",
    "            insert = True\n",
    "            break\n",
    "        \n",
    "    if insert:\n",
    "        cGraph.add_edge(v,u,None)"
   ]
  },
  {
   "cell_type": "code",
   "execution_count": 3,
   "metadata": {},
   "outputs": [
    {
     "name": "stdout",
     "output_type": "stream",
     "text": [
      "111579\n",
      "243710\n"
     ]
    }
   ],
   "source": [
    "print(len(cGraph.edge_list))\n",
    "print(len(DataT0.IG.edge_list))"
   ]
  },
  {
   "cell_type": "code",
   "execution_count": null,
   "metadata": {},
   "outputs": [],
   "source": []
  }
 ],
 "metadata": {
  "kernelspec": {
   "display_name": "Python 3.7.13 ('py3')",
   "language": "python",
   "name": "python3"
  },
  "language_info": {
   "codemirror_mode": {
    "name": "ipython",
    "version": 3
   },
   "file_extension": ".py",
   "mimetype": "text/x-python",
   "name": "python",
   "nbconvert_exporter": "python",
   "pygments_lexer": "ipython3",
   "version": "3.7.13 (default, Mar 28 2022, 08:03:21) [MSC v.1916 64 bit (AMD64)]"
  },
  "orig_nbformat": 4,
  "vscode": {
   "interpreter": {
    "hash": "c89596e0519853efb49a611db4a101fa877490b11f20668452a7d70157c01626"
   }
  }
 },
 "nbformat": 4,
 "nbformat_minor": 2
}
