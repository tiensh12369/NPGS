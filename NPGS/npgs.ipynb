{
 "cells": [
  {
   "cell_type": "code",
   "execution_count": 1,
   "metadata": {},
   "outputs": [],
   "source": [
    "from InitialGraphs import Graphdata\n",
    "import InitialGraphs\n",
    "\n",
    "def p(integer):\n",
    "    if integer == 1:\n",
    "        return 0.5\n",
    "    elif integer == 2:\n",
    "        return 1\n",
    "    \n",
    "fileName = 'NCI1'\n",
    "\n",
    "IGPath = './dataset/' + fileName + '/' + fileName + '.edges' #sys.argv[1]\n",
    "lbPath = './dataset/' + fileName + '/' + fileName + '.node_labels' #sys.argv[2]\n",
    "Separator = ','\n",
    "\n",
    "t = 2 \n",
    "N = 10\n",
    "\n",
    "DataT0 = Graphdata(IGPath, lbPath, Separator)\n",
    "edge_list = DataT0.IG.edge_list\n",
    "\n",
    "cGraph = InitialGraphs.Graph()\n",
    "aGraph = InitialGraphs.Graph()\n",
    "for v,u in edge_list:\n",
    "    aGraph.add_edge(v,u,None)\n",
    "    vNeigh1a = list(aGraph.vertex(v)[2].keys())\n",
    "    uNeigh1a = list(aGraph.vertex(u)[2].keys())\n",
    "\n",
    "    insert = False\n",
    "    \n",
    "    for i in range(0, t):\n",
    "        \n",
    "        vNeigh1c = list(cGraph.vertex(v)[2].keys())\n",
    "        uNeigh1c = list(cGraph.vertex(u)[2].keys())\n",
    "        vNeigh2c = []\n",
    "        uNeigh2c = []\n",
    "        \n",
    "        for vc in vNeigh1c:\n",
    "            vNeigh2c.extend(list(cGraph.vertex(vc)[2].keys()))\n",
    "            \n",
    "        for uc in uNeigh1c:\n",
    "            uNeigh2c.extend(list(cGraph.vertex(uc)[2].keys()))\n",
    "\n",
    "        vNeighc = [vNeigh1c, vNeigh2c]\n",
    "        uNeighc = [uNeigh1c, uNeigh2c]\n",
    "        \n",
    "        if1 = len(list(set(vNeighc[i]) & set(vNeigh1a)))\n",
    "        if11 = p(i+1) * len(vNeigh1a)\n",
    "        if2 = len(list(set(uNeighc[i]) & set(uNeigh1a)))\n",
    "        if22 = p(i+1) * len(uNeigh1a)\n",
    "\n",
    "        if if1 < if11 or if2 < if22:\n",
    "            insert = True\n",
    "            break\n",
    "        \n",
    "    if insert:\n",
    "        cGraph.add_edge(v,u,None)\n",
    "\n"
   ]
  },
  {
   "cell_type": "code",
   "execution_count": 2,
   "metadata": {},
   "outputs": [
    {
     "name": "stdout",
     "output_type": "stream",
     "text": [
      "234944\n",
      "243710\n"
     ]
    }
   ],
   "source": [
    "print(len(cGraph.edge_list))\n",
    "print(len(DataT0.IG.edge_list))"
   ]
  },
  {
   "cell_type": "code",
   "execution_count": null,
   "metadata": {},
   "outputs": [],
   "source": []
  }
 ],
 "metadata": {
  "kernelspec": {
   "display_name": "Python 3.7.13 ('py3')",
   "language": "python",
   "name": "python3"
  },
  "language_info": {
   "codemirror_mode": {
    "name": "ipython",
    "version": 3
   },
   "file_extension": ".py",
   "mimetype": "text/x-python",
   "name": "python",
   "nbconvert_exporter": "python",
   "pygments_lexer": "ipython3",
   "version": "3.7.13 (default, Mar 28 2022, 08:03:21) [MSC v.1916 64 bit (AMD64)]"
  },
  "orig_nbformat": 4,
  "vscode": {
   "interpreter": {
    "hash": "c89596e0519853efb49a611db4a101fa877490b11f20668452a7d70157c01626"
   }
  }
 },
 "nbformat": 4,
 "nbformat_minor": 2
}
