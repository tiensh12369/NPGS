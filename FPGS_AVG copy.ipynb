{
 "cells": [
  {
   "cell_type": "code",
   "execution_count": null,
   "metadata": {},
   "outputs": [],
   "source": [
    "from InitialGraphs import Graphdata\n",
    "from InitialPattern3 import Pattern\n",
    "\n",
    "def Top_nPercent(value_list, n):\n",
    "    if len(dict) == 0:\n",
    "        return 0\n",
    "    part_v = len(value_list)*n//100\n",
    "    \n",
    "    \n",
    "    value_list.sort(reverse=True)\n",
    "    value = list(sorted(dict.items(), key = lambda item: item[1], reverse = True))[part_v][1]\n",
    "    return value\n",
    "\n",
    "# fileName = 'DBLP-v1'\n",
    "fileName = 'soc-political-retweet'\n",
    "\n",
    "IGPath = './dataset/' + fileName + '/' + fileName + '.edges'\n",
    "lbPath = './dataset/' + fileName + '/' + fileName + '.node_labels'\n",
    "out_file = './query/dblp_randompattern.txt'\n",
    "Separator = ','\n",
    "\n",
    "ExceptionList = {}\n",
    "pers = 70 # N-hop Pattern Filtering Ratio\n",
    "psize = 1000000 # 𝐹𝑟𝑒𝑞𝑢𝑒𝑛𝑡 𝑃𝑎𝑡𝑡𝑒𝑟𝑛 𝑀𝑎𝑛𝑎𝑔𝑚𝑒𝑛𝑡 Table Size\n",
    "\n",
    "DataT0 = Graphdata(IGPath, lbPath, Separator)\n",
    "\n",
    "DataP0 = Pattern(DataT0.OhP, ExceptionList, pers, psize)\n",
    "print(len(DataP0.NhP))\n",
    "# print(DataP0.NhP)\n",
    "print(DataP0.NhP)\n",
    "nhpKey = list(DataP0.NhP.keys())\n",
    "print(nhpKey)\n",
    "    "
   ]
  },
  {
   "cell_type": "code",
   "execution_count": null,
   "metadata": {},
   "outputs": [],
   "source": []
  }
 ],
 "metadata": {
  "kernelspec": {
   "display_name": "Python 3.7.13 ('py3')",
   "language": "python",
   "name": "python3"
  },
  "language_info": {
   "codemirror_mode": {
    "name": "ipython",
    "version": 3
   },
   "file_extension": ".py",
   "mimetype": "text/x-python",
   "name": "python",
   "nbconvert_exporter": "python",
   "pygments_lexer": "ipython3",
   "version": "3.7.13 (default, Mar 28 2022, 08:03:21) [MSC v.1916 64 bit (AMD64)]"
  },
  "orig_nbformat": 4,
  "vscode": {
   "interpreter": {
    "hash": "c89596e0519853efb49a611db4a101fa877490b11f20668452a7d70157c01626"
   }
  }
 },
 "nbformat": 4,
 "nbformat_minor": 2
}
