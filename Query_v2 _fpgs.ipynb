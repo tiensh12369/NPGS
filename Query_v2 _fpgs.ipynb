{
 "cells": [
  {
   "cell_type": "code",
   "execution_count": 9,
   "metadata": {},
   "outputs": [
    {
     "name": "stdout",
     "output_type": "stream",
     "text": [
      "18470\n",
      "18470\n"
     ]
    }
   ],
   "source": [
    "from InitialGraphs import Graphdata\n",
    "import sys\n",
    "import time\n",
    "import random\n",
    "\n",
    "random.seed(100)\n",
    "\n",
    "# fileName = 'DBLP-v1'\n",
    "fileName = 'soc-political-retweet'\n",
    "\n",
    "in_path = './dataset/' + fileName + '/' + fileName + '.edges' #sys.argv[1]\n",
    "in_label = './dataset/' + fileName + '/' + fileName + '.node_labels'\n",
    "query_file = './query/spr_node.txt'\n",
    "\n",
    "nList = []\n",
    "eList = []\n",
    "lbDict = {}\n",
    "Separator = ','\n",
    "\n",
    "f = open(in_path, 'r')\n",
    "while True:\n",
    "    line = f.readline().replace('\\n', '').strip()\n",
    "    if not line:\n",
    "        break\n",
    "    \n",
    "    v = line.split(Separator)[0]\n",
    "    u = line.split(Separator)[1]\n",
    "    \n",
    "    if v == u:\n",
    "        continue\n",
    "    \n",
    "    # if v not in lbDict:\n",
    "    #     lbDict[v] = 'n'\n",
    "        \n",
    "    # if u not in lbDict:\n",
    "    #     lbDict[u] = 'n'\n",
    "    \n",
    "    eList.append([v, u])\n",
    "    nList.append(v)\n",
    "    nList.append(u)\n",
    "\n",
    "f.close\n",
    "nList = list(set(nList))\n",
    "print(len(nList))\n",
    "\n",
    "\n",
    "queryList = []\n",
    "f = open(query_file, 'r')\n",
    "while True:\n",
    "    line = f.readline().replace('\\n', '').strip()\n",
    "    if not line:\n",
    "        break\n",
    "\n",
    "    queryList.append(line)\n",
    "\n",
    "f.close\n",
    "print(len(queryList))\n"
   ]
  },
  {
   "cell_type": "code",
   "execution_count": 8,
   "metadata": {},
   "outputs": [
    {
     "name": "stdout",
     "output_type": "stream",
     "text": [
      "-30893679316191.805\n"
     ]
    }
   ],
   "source": [
    "s1 = 0\n",
    "for nq in queryList:\n",
    "    if nq in nList:\n",
    "        s1 += time.time()\n",
    "    else:\n",
    "        print(False)\n",
    "e = time.time() - s1\n",
    "print(e)\n",
    "        "
   ]
  },
  {
   "cell_type": "code",
   "execution_count": 2,
   "metadata": {},
   "outputs": [
    {
     "name": "stdout",
     "output_type": "stream",
     "text": [
      "265506\n",
      "1000\n"
     ]
    }
   ],
   "source": []
  },
  {
   "cell_type": "code",
   "execution_count": 3,
   "metadata": {},
   "outputs": [],
   "source": [
    "randomGraph = []\n",
    "for i in range(len(percentEdge)):\n",
    "    randomGraph.append(random.sample(ori_g,percentEdge[i]))"
   ]
  },
  {
   "cell_type": "code",
   "execution_count": null,
   "metadata": {},
   "outputs": [],
   "source": [
    "for i in range(len(randomGraph)):\n",
    "    file_ext = '.edges'\n",
    "    output_path = out_path + '_'+ str(int(i)) + file_ext\n",
    "\n",
    "    f = open(output_path, 'w')\n",
    "    for l in randomGraph[i]:\n",
    "        l = ','.join(l)\n",
    "        f.write(l + '\\n')\n",
    "    f.close()"
   ]
  },
  {
   "cell_type": "code",
   "execution_count": null,
   "metadata": {},
   "outputs": [],
   "source": []
  }
 ],
 "metadata": {
  "kernelspec": {
   "display_name": "Python 3.7.13 ('py3')",
   "language": "python",
   "name": "python3"
  },
  "language_info": {
   "codemirror_mode": {
    "name": "ipython",
    "version": 3
   },
   "file_extension": ".py",
   "mimetype": "text/x-python",
   "name": "python",
   "nbconvert_exporter": "python",
   "pygments_lexer": "ipython3",
   "version": "3.7.13 (default, Mar 28 2022, 08:03:21) [MSC v.1916 64 bit (AMD64)]"
  },
  "orig_nbformat": 4,
  "vscode": {
   "interpreter": {
    "hash": "c89596e0519853efb49a611db4a101fa877490b11f20668452a7d70157c01626"
   }
  }
 },
 "nbformat": 4,
 "nbformat_minor": 2
}
