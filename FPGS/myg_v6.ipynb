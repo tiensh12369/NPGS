{
 "cells": [
  {
   "cell_type": "code",
   "execution_count": 2,
   "metadata": {},
   "outputs": [
    {
     "name": "stdout",
     "output_type": "stream",
     "text": [
      "707\n",
      "293\n",
      "0 67.07754492759705\n",
      "10000\n",
      "300\n",
      "1 69.31895899772644\n",
      "550\n",
      "229\n",
      "2 66.40498089790344\n",
      "667\n",
      "271\n",
      "3 68.6801369190216\n",
      "667\n",
      "274\n",
      "4 69.11244702339172\n",
      "10000\n",
      "313\n",
      "5 69.97054719924927\n",
      "667\n",
      "271\n",
      "6 67.82932448387146\n",
      "667\n",
      "268\n",
      "7 69.87041807174683\n",
      "667\n",
      "269\n",
      "8 68.5314130783081\n",
      "707\n",
      "292\n",
      "9 71.38115167617798\n",
      "10000\n",
      "258\n",
      "10 69.78884100914001\n"
     ]
    }
   ],
   "source": [
    "from InitialGraphs import Graphdata\n",
    "from InitialPattern import Pattern\n",
    "from GraphPattern import PatternMarge\n",
    "import time\n",
    "\n",
    "fileName = 'NCI1'\n",
    "pers = 5 # N-hop Pattern Filtering Ratio\n",
    "psize = 10000 # 𝐹𝑟𝑒𝑞𝑢𝑒𝑛𝑡 𝑃𝑎𝑡𝑡𝑒𝑟𝑛 𝑀𝑎𝑛𝑎𝑔𝑚𝑒𝑛𝑡 Table Size\n",
    "batchsize = 3\n",
    "bind = {}\n",
    "for i in range(11):\n",
    "    s1 = time.time()\n",
    "    IGPath = './Gen_Evolution_set/' + fileName + '/' + fileName + '_' + str(i) + '.edges'\n",
    "    lbPath = './dataset/' + fileName + '/' + fileName + '.node_labels'\n",
    "\n",
    "    Separator = ','\n",
    "\n",
    "    DataT0 = Graphdata(IGPath, lbPath, Separator)\n",
    "    DataP0 = Pattern(DataT0.OhP, bind, pers, psize)\n",
    "\n",
    "    FP = DataP0.NhP\n",
    "    print(len(FP))\n",
    "    PM = PatternMarge(DataT0.IG, DataP0.NhP, DataT0.lbDict, DataT0.nList)\n",
    "    Ge = PM.SG\n",
    "    e1 = time.time() - s1\n",
    "    print(len(PM.pCont))\n",
    "    print(i, e1)\n"
   ]
  },
  {
   "cell_type": "code",
   "execution_count": null,
   "metadata": {},
   "outputs": [],
   "source": [
    "DataP0 = Pattern(DataT0.pt_fq, pers, psize)\n",
    "e2 = time.time()\n",
    "\n",
    "PM = PatternMarge(DataT0.gs, DataP0.new_pt_fq, DataT0.label_dict, DataT0.nodeList)\n",
    "\n",
    "Ge = PM.pEdgeList"
   ]
  },
  {
   "cell_type": "code",
   "execution_count": 20,
   "metadata": {},
   "outputs": [
    {
     "name": "stdout",
     "output_type": "stream",
     "text": [
      "3656\n",
      "331\n",
      "33346\n",
      "31524\n",
      "edges 452.81 KB\n",
      "pattern 5.49 KB\n",
      "node_labels 347.45 KB\n",
      "Sum File Size: 805.75 KB bytes\n"
     ]
    }
   ],
   "source": [
    "print(DataP0.Threshold)\n",
    "print(len(DataP0.new_pt_fq))\n",
    "print(len(PM.pNodeDict))\n",
    "print(len(PM.pEdgeList))\n",
    "\n",
    "def convert_size(size_bytes):\n",
    "    import math\n",
    "    if size_bytes == 0:\n",
    "        return \"0B\"\n",
    "    size_name = (\"B\", \"KB\", \"MB\", \"GB\", \"TB\", \"PB\", \"EB\", \"ZB\", \"YB\")\n",
    "    i = int(math.floor(math.log(size_bytes, 1024)))\n",
    "    p = math.pow(1024, i)\n",
    "    s = round(size_bytes / p, 2)\n",
    "    return \"%s %s\" % (s, size_name[i])\n",
    "\n",
    "import os\n",
    "file_name = './Result/' + fileName + '_' + str(len(DataP0.new_pt_fq)) + '_' + str(pers)\n",
    "extension = ['.edges', '.pattern', '.node_labels']\n",
    "file_size = 0\n",
    "for e in extension:\n",
    "    file_size = file_size + os.path.getsize(file_name + e) \n",
    "    print(e.split('.')[1], convert_size(os.path.getsize(file_name + e)))\n",
    "    \n",
    "print('Sum File Size:', convert_size(file_size), 'bytes')\n",
    "\n",
    "input_file = [edges_path, label_path]\n",
    "file_size1 = 0\n",
    "for ip in input_file:\n",
    "    file_size1 = file_size1 + os.path.getsize(ip) \n",
    "#     print(ip.split('.')[2], convert_size(os.path.getsize(ip)))\n",
    "    \n",
    "# print('Sum input File Size:', convert_size(file_size1), 'bytes')"
   ]
  },
  {
   "cell_type": "code",
   "execution_count": 2,
   "metadata": {},
   "outputs": [],
   "source": [
    "batchsize = 3\n",
    "DxMtrix = [0 for col in range(batchsize+3)]\n",
    "new_pt = list(sorted(DataP0.new_pt_fq.items(), key = lambda item: item[1], reverse = True))\n",
    "for line in range(len(DxMtrix)):\n",
    "    DxMtrix[line][0] = new_pt[line][0]\n",
    "    DxMtrix[line][1] = new_pt[line][1]\n",
    "    DxMtrix[line][4] = sum(DxMtrix[line][1:4])\n"
   ]
  },
  {
   "cell_type": "code",
   "execution_count": null,
   "metadata": {},
   "outputs": [],
   "source": [
    "f = open('./Result/' + fileName + '_' + str(len(DataP0.new_pt_fq)) + '_' + str(pers) + '.edges', 'w')\n",
    "\n",
    "for e in Ge:\n",
    "    str_e = e[0] + ',' + e[1] + '\\n'\n",
    "    f.write(str_e)\n",
    "        \n",
    "f.close()\n",
    "\n",
    "P_id_list = list(sorted(PM.P_id_dict.items(), key = lambda item: item[1], reverse = True))\n",
    "Gp = P_id_list\n",
    "f = open('./Result/' + fileName + '_' + str(len(DataP0.new_pt_fq)) + '_' + str(pers) + '.pattern', 'w')\n",
    "\n",
    "for e in Gp:\n",
    "    str_e = e[1] + ',' + e[0] + '\\n'\n",
    "    f.write(str_e)\n",
    "        \n",
    "f.close()\n",
    "\n",
    "Gl = list(sorted(PM.pNodeDict.items()))\n",
    "f = open('./Result/' + fileName + '_' + str(len(DataP0.new_pt_fq)) + '_' + str(pers) + '.node_labels', 'w')\n",
    "\n",
    "for e in Gl:\n",
    "    str_e = e[0] + ',' + e[1] + '\\n'\n",
    "    f.write(str_e)\n",
    "        \n",
    "f.close()"
   ]
  },
  {
   "cell_type": "code",
   "execution_count": null,
   "metadata": {},
   "outputs": [],
   "source": [
    "import networkx as nx\n",
    "from pyvis.network import Network\n",
    "G = nx.Graph()\n",
    "\n",
    "for v, u in pEdgeList:\n",
    "    G.add_edge(v,u)\n",
    "    \n",
    "graph_name = fileName + '_pattern.html'\n",
    "net = Network(bgcolor=\"#222222\", font_color=\"white\", filter_menu=True, select_menu=True)\n",
    "net.from_nx(G)\n",
    "\n",
    "net.show_buttons(filter_=['physics'])\n",
    "net.show(graph_name)"
   ]
  }
 ],
 "metadata": {
  "kernelspec": {
   "display_name": "Python 3.7.13 ('py3')",
   "language": "python",
   "name": "python3"
  },
  "language_info": {
   "codemirror_mode": {
    "name": "ipython",
    "version": 3
   },
   "file_extension": ".py",
   "mimetype": "text/x-python",
   "name": "python",
   "nbconvert_exporter": "python",
   "pygments_lexer": "ipython3",
   "version": "3.7.13 (default, Mar 28 2022, 08:03:21) [MSC v.1916 64 bit (AMD64)]"
  },
  "orig_nbformat": 4,
  "vscode": {
   "interpreter": {
    "hash": "c89596e0519853efb49a611db4a101fa877490b11f20668452a7d70157c01626"
   }
  }
 },
 "nbformat": 4,
 "nbformat_minor": 2
}
