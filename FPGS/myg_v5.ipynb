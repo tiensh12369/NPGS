{
 "cells": [
  {
   "cell_type": "code",
   "execution_count": 41,
   "metadata": {},
   "outputs": [
    {
     "name": "stdout",
     "output_type": "stream",
     "text": [
      "전쳬실행시간: 363.58233094215393, 패턴: 295.7346212863922\n"
     ]
    }
   ],
   "source": [
    "from InitialGraphs import Graphdata\n",
    "from InitialPattern import Pattern\n",
    "from GraphPattern import PatternMarge\n",
    "import time\n",
    "\n",
    "s1 = time.time()\n",
    "fileName = 'NCI1'\n",
    "\n",
    "IGPath = './dataset/' + fileName + '/' + fileName + '.edges' #sys.argv[1]\n",
    "lbPath = './dataset/' + fileName + '/' + fileName + '.node_labels' #sys.argv[2]\n",
    "Separator = ','\n",
    "\n",
    "s2 = time.time()\n",
    "DataT0 = Graphdata(IGPath, lbPath, Separator)\n",
    "pers = 20\n",
    "psize = 100000\n",
    "\n",
    "DataP0 = Pattern(DataT0.OhP, pers, psize)\n",
    "e2 = time.time()\n",
    "\n",
    "PM = PatternMarge(DataT0.IG, DataP0.NhP, DataT0.lbDict, DataT0.nList)\n",
    "Ge = PM.SG\n",
    "\n",
    "f = open('./Result/' + fileName + '_' + str(len(DataP0.NhP)) + '_' + str(pers) + '.edges', 'w')\n",
    "\n",
    "for e in Ge:\n",
    "    str_e = e[0] + ',' + e[1] + '\\n'\n",
    "    f.write(str_e)\n",
    "        \n",
    "f.close()\n",
    "\n",
    "P_id_list = list(sorted(PM.pidDict.items(), key = lambda item: item[1], reverse = True))\n",
    "Gp = P_id_list\n",
    "f = open('./Result/' + fileName + '_' + str(len(DataP0.NhP)) + '_' + str(pers) + '.pattern', 'w')\n",
    "\n",
    "for e in Gp:\n",
    "    str_e = e[1] + ',' + e[0] + '\\n'\n",
    "    f.write(str_e)\n",
    "        \n",
    "f.close()\n",
    "\n",
    "Gl = list(sorted(PM.SGnl.items()))\n",
    "f = open('./Result/' + fileName + '_' + str(len(DataP0.NhP)) + '_' + str(pers) + '.node_labels', 'w')\n",
    "\n",
    "for e in Gl:\n",
    "    str_e = e[0] + ',' + e[1] + '\\n'\n",
    "    f.write(str_e)\n",
    "        \n",
    "f.close()\n",
    "\n",
    "e1 = time.time()\n",
    "d1 = e1-s1\n",
    "d2 = e2-s2\n",
    "print(f'전쳬실행시간: {d1}, 패턴: {d2}')\n"
   ]
  },
  {
   "cell_type": "code",
   "execution_count": 43,
   "metadata": {},
   "outputs": [
    {
     "name": "stdout",
     "output_type": "stream",
     "text": [
      "346\n",
      "100000\n",
      "32619\n",
      "30780\n",
      "edges 443.1 KB\n",
      "node_labels 338.56 KB\n",
      "pattern 6.39 KB\n",
      "Sum File Size: 788.04 KB bytes\n"
     ]
    }
   ],
   "source": [
    "print(DataP0.Threshold)\n",
    "print(len(DataP0.NhP))\n",
    "print(len(PM.SGnl))\n",
    "print(len(PM.SG))\n",
    "\n",
    "def convert_size(size_bytes):\n",
    "    import math\n",
    "    if size_bytes == 0:\n",
    "        return \"0B\"\n",
    "    size_name = (\"B\", \"KB\", \"MB\", \"GB\", \"TB\", \"PB\", \"EB\", \"ZB\", \"YB\")\n",
    "    i = int(math.floor(math.log(size_bytes, 1024)))\n",
    "    p = math.pow(1024, i)\n",
    "    s = round(size_bytes / p, 2)\n",
    "    return \"%s %s\" % (s, size_name[i])\n",
    "\n",
    "import os\n",
    "file_name = './Result/' + fileName + '_' + str(len(DataP0.NhP)) + '_' + str(pers)\n",
    "extension = ['.edges', '.node_labels', '.pattern']\n",
    "file_size = 0\n",
    "for e in extension:\n",
    "    file_size = file_size + os.path.getsize(file_name + e) \n",
    "    print(e.split('.')[1], convert_size(os.path.getsize(file_name + e)))\n",
    "    \n",
    "print('Sum File Size:', convert_size(file_size), 'bytes')\n",
    "\n",
    "input_file = [IGPath, lbPath]\n",
    "file_size1 = 0\n",
    "for ip in input_file:\n",
    "    file_size1 = file_size1 + os.path.getsize(ip)"
   ]
  },
  {
   "cell_type": "code",
   "execution_count": null,
   "metadata": {},
   "outputs": [],
   "source": []
  }
 ],
 "metadata": {
  "kernelspec": {
   "display_name": "Python 3.7.13 ('py3')",
   "language": "python",
   "name": "python3"
  },
  "language_info": {
   "codemirror_mode": {
    "name": "ipython",
    "version": 3
   },
   "file_extension": ".py",
   "mimetype": "text/x-python",
   "name": "python",
   "nbconvert_exporter": "python",
   "pygments_lexer": "ipython3",
   "version": "3.7.13 (default, Mar 28 2022, 08:03:21) [MSC v.1916 64 bit (AMD64)]"
  },
  "orig_nbformat": 4,
  "vscode": {
   "interpreter": {
    "hash": "c89596e0519853efb49a611db4a101fa877490b11f20668452a7d70157c01626"
   }
  }
 },
 "nbformat": 4,
 "nbformat_minor": 2
}
