{
 "cells": [
  {
   "cell_type": "code",
   "execution_count": 1,
   "metadata": {},
   "outputs": [
    {
     "name": "stdout",
     "output_type": "stream",
     "text": [
      "95\n",
      "121\n"
     ]
    }
   ],
   "source": [
    "class Graph:\n",
    "    def __init__(self):\n",
    "        self.adj_dict = {}\n",
    "        self.node_dict = {}\n",
    "        self.edge_list = []\n",
    "        \n",
    "    def add_edge(self, v, u, pattern):\n",
    "        if v not in self.adj_dict:\n",
    "            self.adj_dict[v] = {u:pattern}\n",
    "        else:\n",
    "            self.adj_dict[v][u] = pattern\n",
    "            \n",
    "        if u not in self.adj_dict:\n",
    "            self.adj_dict[u] = {v:pattern}\n",
    "        else:\n",
    "            self.adj_dict[u][v] = pattern\n",
    "            \n",
    "        if v not in self.node_dict:\n",
    "            self.node_dict[v] = v\n",
    "            \n",
    "        if u not in self.node_dict:\n",
    "            self.node_dict[u] = u\n",
    "        \n",
    "        self.edge_list.append([v,u])\n",
    "        \n",
    "    def del_edge(self, v, u):\n",
    "        if u in self.adj_dict[v]:\n",
    "            del(self.adj_dict[v][u])\n",
    "            \n",
    "        if v in self.adj_dict[u]:\n",
    "            del(self.adj_dict[u][v])\n",
    "            \n",
    "    def del_uedge(self, v, u):\n",
    "        if v in self.adj_dict[u]:\n",
    "            del(self.adj_dict[u][v])\n",
    "            \n",
    "            \n",
    "    def print_edge(self):\n",
    "        return self.edge_list\n",
    "        \n",
    "    def print_adj(self, v):\n",
    "        return self.adj_dict[v]\n",
    "    \n",
    "    def vertex(self, v):\n",
    "        self.adj_list = self.adj_dict[v]\n",
    "        self.deg = len(self.adj_dict[v])\n",
    "        self.vertex_num = 1\n",
    "        \n",
    "        return self.vertex_num, self.deg, self.adj_list\n",
    "    \n",
    "import sys\n",
    "import time\n",
    "\n",
    "# edges_path = './dataset/soc-YouTube-ASU/soc-YouTube-ASU.edges' #sys.argv[1]\n",
    "# label_path = './dataset/soc-YouTube-ASU/soc-YouTube-ASU.node_labels' #sys.argv[2]\n",
    "edges_path = './dataset/ENZYMES118/ENZYMES118.edges' #sys.argv[1]\n",
    "label_path = './dataset/ENZYMES118/ENZYMES118.node_labels' #sys.argv[2]\n",
    "# edges_path = './dataset/dblp/DBLP-v1/DBLP-v1.edges' #sys.argv[1]\n",
    "# label_path = './dataset/dblp/DBLP-v1/DBLP-v1.node_labels' #sys.argv[2]\n",
    "\n",
    "# edges_path = './dataset/NCI1/NCI1.edges' #sys.argv[1]\n",
    "# label_path = './dataset/NCI1/NCI1.node_labels' #sys.argv[2]\n",
    "# # k = 7 #sys.argv[3]\n",
    "label_dict = {}\n",
    "graph_sort = []\n",
    "label_kind = []\n",
    "node_dict = {}\n",
    "pers = 10\n",
    "pt_fq = {} # 빈발패턴.\n",
    "# node = 1\n",
    "label_f = open(label_path, 'r')\n",
    "while True:\n",
    "    line = label_f.readline().replace('\\n', '').strip()\n",
    "    if not line:\n",
    "        label_kind.append('0')\n",
    "        break\n",
    "    \n",
    "    node = line.split(' ')[0]\n",
    "    label = line.split(' ')[1]\n",
    "    \n",
    "    # label = line\n",
    "    label_dict[str(node)] = label\n",
    "    label_kind.append(label)\n",
    "    # node += 1\n",
    "label_f.close\n",
    "\n",
    "label_kind = list(set(label_kind))\n",
    "\n",
    "edge_f = open(edges_path, 'r')\n",
    "gs = Graph()\n",
    "while True:\n",
    "    line = edge_f.readline().replace('\\n', '').strip()\n",
    "    if not line:\n",
    "        break\n",
    "    \n",
    "    v = line.split(' ')[0]\n",
    "    u = line.split(' ')[1]\n",
    "    \n",
    "    if v == u:\n",
    "        continue\n",
    "    \n",
    "    if v not in label_dict:\n",
    "        label_dict[v] = '0'\n",
    "        \n",
    "    if u not in label_dict:\n",
    "        label_dict[u] = '0'\n",
    "    graph_sort.append([v,u])\n",
    "    \n",
    "    if v not in node_dict:\n",
    "        node_dict[v] = v\n",
    "    if u not in node_dict:\n",
    "        node_dict[u] = u\n",
    "        \n",
    "    pt = label_dict[v] + '/' + label_dict[u]\n",
    "    re_pt = ''.join(reversed(pt))\n",
    "    \n",
    "    if pt not in pt_fq and re_pt not in pt_fq:\n",
    "        pt_fq[pt] = 1\n",
    "        gs.add_edge(v,u,pt)\n",
    "        \n",
    "    elif re_pt in pt_fq:\n",
    "        pt_fq[re_pt] = pt_fq[re_pt] + 1\n",
    "        gs.add_edge(v,u,re_pt)\n",
    "        \n",
    "    elif pt in pt_fq:\n",
    "        pt_fq[pt] = pt_fq[pt] + 1\n",
    "        gs.add_edge(v,u,pt)\n",
    "\n",
    "edge_f.close\n",
    "\n",
    "print(len(node_dict))\n",
    "print(len(graph_sort))"
   ]
  },
  {
   "cell_type": "code",
   "execution_count": 8,
   "metadata": {},
   "outputs": [
    {
     "name": "stdout",
     "output_type": "stream",
     "text": [
      "102503\n",
      "38\n"
     ]
    }
   ],
   "source": [
    "print(len(label_dict))\n",
    "print(len(label_kind))"
   ]
  },
  {
   "cell_type": "code",
   "execution_count": 9,
   "metadata": {},
   "outputs": [
    {
     "name": "stdout",
     "output_type": "stream",
     "text": [
      "['4', '0', '28', '22', '15', '30', '35', '1', '36', '20', '24', '34', '21', '14', '32', '11', '10', '16', '13', '19', '23', '25', '9', '8', '5', '12', '2', '6', '17', '37', '31', '33', '7', '27', '26', '29', '3', '18']\n"
     ]
    }
   ],
   "source": [
    "print(label_kind)"
   ]
  },
  {
   "cell_type": "code",
   "execution_count": null,
   "metadata": {},
   "outputs": [],
   "source": []
  }
 ],
 "metadata": {
  "kernelspec": {
   "display_name": "Python 3.7.13 ('py3')",
   "language": "python",
   "name": "python3"
  },
  "language_info": {
   "codemirror_mode": {
    "name": "ipython",
    "version": 3
   },
   "file_extension": ".py",
   "mimetype": "text/x-python",
   "name": "python",
   "nbconvert_exporter": "python",
   "pygments_lexer": "ipython3",
   "version": "3.7.13"
  },
  "orig_nbformat": 4,
  "vscode": {
   "interpreter": {
    "hash": "c89596e0519853efb49a611db4a101fa877490b11f20668452a7d70157c01626"
   }
  }
 },
 "nbformat": 4,
 "nbformat_minor": 2
}
