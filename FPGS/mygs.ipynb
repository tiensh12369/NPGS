{
 "cells": [
  {
   "cell_type": "code",
   "execution_count": 1,
   "metadata": {},
   "outputs": [],
   "source": [
    "class Graph:\n",
    "    def __init__(self):\n",
    "        self.adj_dict = {}\n",
    "        \n",
    "    def add_edge(self, v, u, pattern) :\n",
    "        if v not in self.adj_dict:\n",
    "            self.adj_dict[v] = {u:pattern}\n",
    "        else:\n",
    "            self.adj_dict[v][u] = pattern\n",
    "            \n",
    "        if u not in self.adj_dict:\n",
    "            self.adj_dict[u] = {v:pattern}\n",
    "        else:\n",
    "            self.adj_dict[u][v] = pattern\n",
    "        \n",
    "    def adj(self, v):\n",
    "        return self.adj_dict[v]\n",
    "    \n",
    "    def vertex(self, v):\n",
    "        self.adj_list = self.adj_dict[v]\n",
    "        self.deg = sum(list(map(int, self.adj_list.values())))\n",
    "        self.vertex_num = 1\n",
    "        \n",
    "        return self.vertex_num, self.adj_list, self.deg"
   ]
  },
  {
   "cell_type": "code",
   "execution_count": 2,
   "metadata": {},
   "outputs": [
    {
     "data": {
      "text/plain": [
       "<function TextIOWrapper.close()>"
      ]
     },
     "execution_count": 2,
     "metadata": {},
     "output_type": "execute_result"
    }
   ],
   "source": [
    "import sys\n",
    "import time\n",
    "\n",
    "edges_path = './dataset/soc-YouTube-ASU/soc-YouTube-ASU.edges' #sys.argv[1]\n",
    "label_path = './dataset/soc-YouTube-ASU/soc-YouTube-ASU.node_labels' #sys.argv[2]\n",
    "# k = 7 #sys.argv[3]\n",
    "label_dict = {}\n",
    "graph_sort = []\n",
    "label_kind = []\n",
    "node_dict = {}\n",
    "pt_fq = {} # 빈발패턴\n",
    "label_f = open(label_path, 'r')\n",
    "while True:\n",
    "    line = label_f.readline().replace('\\n', '').strip()\n",
    "    if not line:\n",
    "        label_kind.append('0')\n",
    "        break\n",
    "    \n",
    "    node = line.split(',')[0]\n",
    "    label = line.split(',')[1]\n",
    "    label_dict[node] = label\n",
    "    label_kind.append(label)\n",
    "label_f.close\n",
    "\n",
    "label_kind = list(set(label_kind))\n",
    "\n",
    "edge_f = open(edges_path, 'r')\n",
    "gs = Graph()\n",
    "while True:\n",
    "    line = edge_f.readline().replace('\\n', '').strip()\n",
    "    if not line:\n",
    "        break\n",
    "    \n",
    "    v = line.split(',')[0]\n",
    "    u = line.split(',')[1]\n",
    "    if v not in label_dict:\n",
    "        label_dict[v] = '0'\n",
    "        \n",
    "    if u not in label_dict:\n",
    "        label_dict[u] = '0'\n",
    "    graph_sort.append([v,u])\n",
    "    \n",
    "    if v not in node_dict:\n",
    "        node_dict[v] = v\n",
    "    if u not in node_dict:\n",
    "        node_dict[u] = u\n",
    "        \n",
    "    pt = label_dict[v] + '/' + label_dict[u]\n",
    "    re_pt = ''.join(reversed(pt))\n",
    "    \n",
    "    if pt not in pt_fq and re_pt not in pt_fq:\n",
    "        pt_fq[pt] = 1\n",
    "        gs.add_edge(v,u,pt)\n",
    "        \n",
    "    elif re_pt in pt_fq:\n",
    "        pt_fq[re_pt] = pt_fq[re_pt] + 1\n",
    "        gs.add_edge(v,u,re_pt)\n",
    "        \n",
    "    elif pt in pt_fq:\n",
    "        pt_fq[pt] = pt_fq[pt] + 1\n",
    "        gs.add_edge(v,u,pt)\n",
    "\n",
    "    \n",
    "edge_f.close"
   ]
  },
  {
   "cell_type": "code",
   "execution_count": 7,
   "metadata": {},
   "outputs": [
    {
     "data": {
      "text/plain": [
       "{'2': '1/0',\n",
       " '3': '1/1',\n",
       " '4': '1/0',\n",
       " '5': '1/1',\n",
       " '6': '1/0',\n",
       " '7': '1/0',\n",
       " '8': '1/2',\n",
       " '9': '1/0',\n",
       " '10': '1/0',\n",
       " '11': '1/0',\n",
       " '12': '1/0',\n",
       " '13': '1/4',\n",
       " '14': '1/0',\n",
       " '15': '1/28',\n",
       " '16': '1/0',\n",
       " '17': '1/0',\n",
       " '18': '1/0',\n",
       " '19': '1/0',\n",
       " '20': '1/0',\n",
       " '21': '1/0',\n",
       " '22': '1/0',\n",
       " '376': '1/5',\n",
       " '1219': '1/16',\n",
       " '268635': '1/0',\n",
       " '317880': '1/0',\n",
       " '645927': '1/0',\n",
       " '645928': '1/0',\n",
       " '645929': '1/0',\n",
       " '645930': '1/0'}"
      ]
     },
     "execution_count": 7,
     "metadata": {},
     "output_type": "execute_result"
    }
   ],
   "source": [
    "gs.adj('1')"
   ]
  },
  {
   "cell_type": "code",
   "execution_count": null,
   "metadata": {},
   "outputs": [],
   "source": []
  },
  {
   "cell_type": "code",
   "execution_count": 71,
   "metadata": {},
   "outputs": [
    {
     "name": "stdout",
     "output_type": "stream",
     "text": [
      "1648.5352811466373\n"
     ]
    }
   ],
   "source": [
    "a = list(pt_fq.values())\n",
    "sum = 0\n",
    "for n in a:\n",
    "    sum = sum + n\n",
    "\n",
    "mean = sum / len(a)\n",
    "print(mean)"
   ]
  },
  {
   "cell_type": "code",
   "execution_count": 72,
   "metadata": {},
   "outputs": [
    {
     "name": "stdout",
     "output_type": "stream",
     "text": [
      "1814\n",
      "1795\n",
      "4\n",
      "0.011025358324145534\n"
     ]
    }
   ],
   "source": [
    "print(len(pt_fq))\n",
    "print(len(pt_fq)*99//100)\n",
    "print(len(pt_fq)%10)\n",
    "print(20/len(pt_fq))\n",
    "n = 99\n",
    "value = list(sorted(pt_fq.items(), key = lambda item: item[1], reverse = True))\n",
    "# print(value)\n",
    "new_pt_fq = {}\n",
    "new_pt_fq.update(pt_fq)"
   ]
  },
  {
   "cell_type": "code",
   "execution_count": 74,
   "metadata": {},
   "outputs": [
    {
     "name": "stdout",
     "output_type": "stream",
     "text": [
      "0\n",
      "1814\n",
      "6947\n"
     ]
    }
   ],
   "source": [
    "p_id = 0\n",
    "Freq = 0\n",
    "TF = 0\n",
    "FR = 0\n",
    "\n",
    "def Top_nPercent(dict, n):\n",
    "    if len(dict) == 0:\n",
    "        return 0\n",
    "    part_v = len(dict)*n//100 - 1\n",
    "    value = list(sorted(dict.items(), key = lambda item: item[1], reverse = True))[part_v][1]\n",
    "    return value\n",
    "\n",
    "def pattern_gen(ptternFrequency, pttern_th):\n",
    "    add_pt = {}\n",
    "    \n",
    "    for pt1 in ptternFrequency:\n",
    "        if ptternFrequency[pt1] >= pttern_th:\n",
    "            pt_tgt = pt1.split('/')\n",
    "            for pt2 in ptternFrequency:\n",
    "                if pt1 != pt2 and ptternFrequency[pt2] >= pttern_th:\n",
    "                    pt_sce = pt2.split('/')\n",
    "                    between_len = len(pt_tgt) - 2\n",
    "                    if between_len == 0:\n",
    "                        if pt_tgt[0] == pt_sce[0]:\n",
    "                            pt = pt_sce[1] + '/' + pt1\n",
    "                        elif pt_tgt[0] == pt_sce[1]:\n",
    "                            pt = pt_sce[0] + '/' + pt1\n",
    "                        elif pt_tgt[-1] == pt_sce[0]:\n",
    "                            pt = pt1 + '/' + pt_sce[1]\n",
    "\n",
    "                        elif pt_tgt[-1] == pt_sce[-1]:\n",
    "                            pt = pt1 + '/' + pt_sce[0]\n",
    "                        else:\n",
    "                            continue\n",
    "                    else:\n",
    "                        if pt_tgt[:between_len] == pt_sce[between_len:-1]: #앞, 뒤\n",
    "                            pt = pt_sce[0] + '/' + pt1\n",
    "                        elif pt_tgt[between_len:-1] == pt_sce[:between_len]: #뒤, 앞\n",
    "                            pt = pt1 + '/' + pt_sce[-1]\n",
    "                        else:\n",
    "                            continue\n",
    "                        \n",
    "                    re_pt = ''.join(reversed(pt))\n",
    "        \n",
    "                    if pt not in add_pt and re_pt not in add_pt:\n",
    "                        add_pt[pt] = min(ptternFrequency[pt1], ptternFrequency[pt2])\n",
    "    \n",
    "    return add_pt\n",
    "\n",
    "pers = 10\n",
    "def updatePattern(updateDict, pers):\n",
    "    update_dict = {}\n",
    "    update_dict = (pattern_gen(updateDict, Top_nPercent(updateDict, pers)))\n",
    "    if len(update_dict) != 0:\n",
    "        new_pt_fq.update(update_dict)\n",
    "        updatePattern(update_dict, pers)\n",
    "    \n",
    "updatePattern(pt_fq, pers)\n",
    "print(len(pt_fq))\n",
    "print(len(new_pt_fq))\n",
    "    \n",
    "# print('a')\n",
    "# a = pattern_gen(pt_fq, Top_nPercent(pt_fq, pers))\n",
    "# print(len(a), Top_nPercent(pt_fq, pers))\n",
    "# print('b')\n",
    "# b = pattern_gen(a, Top_nPercent(a, pers))\n",
    "# print(len(b), Top_nPercent(a, pers))\n",
    "# print('c')\n",
    "# c = pattern_gen(b, Top_nPercent(b, pers))\n",
    "# print(len(c), Top_nPercent(b, pers))\n",
    "\n",
    "# print(sorted(b.items(), key = lambda item: item[1], reverse = True))\n",
    "            "
   ]
  },
  {
   "cell_type": "code",
   "execution_count": null,
   "metadata": {},
   "outputs": [],
   "source": [
    "print(len(pt_fq))\n",
    "print(len(add_pt))\n",
    "pt_fq.update(add_pt)\n",
    "print(len(pt_fq))\n",
    "\n",
    "print(sorted(pt_fq.items(), key = lambda item: item[1], reverse = True))"
   ]
  },
  {
   "cell_type": "code",
   "execution_count": null,
   "metadata": {},
   "outputs": [],
   "source": [
    "p_id = 0\n",
    "Freq = 0\n",
    "TF = 0\n",
    "FR = 0\n",
    "pattern_list = []\n",
    "\n",
    "pattern_list.append([p_id, pt, Freq, TF, FR])\n",
    "\n",
    "\n",
    "for p_one in pattern_list:\n",
    "    if p_one[1] == pt or p_one[1] == re_pt:\n",
    "        p_id = pattern_list.index(p_one)\n",
    "        Freq = p_one[2] + 1\n",
    "    pattern_list.append([p_id, pt, Freq, TF, FR])"
   ]
  },
  {
   "cell_type": "code",
   "execution_count": 57,
   "metadata": {},
   "outputs": [
    {
     "name": "stdout",
     "output_type": "stream",
     "text": [
      "[2, 3, 4, 5, 6, 7, 8, 9]\n"
     ]
    }
   ],
   "source": [
    "a = [1,2,3,4,5,6,7,8,9]\n",
    "\n",
    "print(a[1:])"
   ]
  },
  {
   "cell_type": "code",
   "execution_count": null,
   "metadata": {},
   "outputs": [],
   "source": []
  }
 ],
 "metadata": {
  "kernelspec": {
   "display_name": "Python 3.7.13 ('py3')",
   "language": "python",
   "name": "python3"
  },
  "language_info": {
   "codemirror_mode": {
    "name": "ipython",
    "version": 3
   },
   "file_extension": ".py",
   "mimetype": "text/x-python",
   "name": "python",
   "nbconvert_exporter": "python",
   "pygments_lexer": "ipython3",
   "version": "3.7.13"
  },
  "orig_nbformat": 4,
  "vscode": {
   "interpreter": {
    "hash": "c89596e0519853efb49a611db4a101fa877490b11f20668452a7d70157c01626"
   }
  }
 },
 "nbformat": 4,
 "nbformat_minor": 2
}
